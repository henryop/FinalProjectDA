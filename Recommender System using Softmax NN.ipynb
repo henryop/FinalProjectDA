{
  "nbformat": 4,
  "nbformat_minor": 0,
  "metadata": {
    "colab": {
      "provenance": []
    },
    "kernelspec": {
      "name": "python3",
      "display_name": "Python 3"
    }
  },
  "cells": [
    {
      "cell_type": "markdown",
      "metadata": {
        "id": "f4dpxTTFCNQi"
      },
      "source": [
        "## Loading the libraries"
      ]
    },
    {
      "cell_type": "code",
      "metadata": {
        "id": "pK__TGE8ABxK"
      },
      "source": [
        "import os\n",
        "import numpy as np\n",
        "import pandas as pd\n",
        "import matplotlib.pyplot as plt\n",
        "from sklearn.model_selection import train_test_split\n",
        "from sklearn.preprocessing import LabelEncoder\n",
        "from tensorflow.python.keras.layers import Input, Dense, Embedding\n",
        "from tensorflow.keras.models import Model"
      ],
      "execution_count": 32,
      "outputs": []
    },
    {
      "cell_type": "code",
      "metadata": {
        "id": "uKKckGQngZKP"
      },
      "source": [
        "import tensorflow as tf\n",
        "import keras\n",
        "from pprint import pprint"
      ],
      "execution_count": 33,
      "outputs": []
    },
    {
      "cell_type": "code",
      "metadata": {
        "id": "CEwzA81KOtn8"
      },
      "source": [
        "DATASET_LINK='http://files.grouplens.org/datasets/movielens/ml-100k.zip'"
      ],
      "execution_count": 34,
      "outputs": []
    },
    {
      "cell_type": "code",
      "metadata": {
        "id": "_toQkgU7Ot8r",
        "outputId": "9272392a-b36b-4699-cf8f-ee63e0c84b9d",
        "colab": {
          "base_uri": "https://localhost:8080/"
        }
      },
      "source": [
        "!wget -nc http://files.grouplens.org/datasets/movielens/ml-100k.zip\n",
        "!unzip -n ml-100k.zip"
      ],
      "execution_count": 35,
      "outputs": [
        {
          "output_type": "stream",
          "name": "stdout",
          "text": [
            "File ‘ml-100k.zip’ already there; not retrieving.\n",
            "\n",
            "Archive:  ml-100k.zip\n"
          ]
        }
      ]
    },
    {
      "cell_type": "markdown",
      "metadata": {
        "id": "o7aPc6R_O1S9"
      },
      "source": [
        "#Loading MovieLens dataset"
      ]
    },
    {
      "cell_type": "markdown",
      "metadata": {
        "id": "FZ-rNaLsO8Mj"
      },
      "source": [
        "Loading u.info -- The number of users, items, and ratings in the u data set."
      ]
    },
    {
      "cell_type": "code",
      "metadata": {
        "id": "1IV3uY7hOvvF",
        "outputId": "725d689d-e167-454a-e208-da837fc9a4f1",
        "colab": {
          "base_uri": "https://localhost:8080/"
        }
      },
      "source": [
        "overall_stats = pd.read_csv('ml-100k/u.info', header=None)\n",
        "print(\"Details of users, items and ratings involved in the loaded movielens dataset: \",list(overall_stats[0]))"
      ],
      "execution_count": 36,
      "outputs": [
        {
          "output_type": "stream",
          "name": "stdout",
          "text": [
            "Details of users, items and ratings involved in the loaded movielens dataset:  ['943 users', '1682 items', '100000 ratings']\n"
          ]
        }
      ]
    },
    {
      "cell_type": "code",
      "metadata": {
        "id": "_Dm64PwPO89K",
        "outputId": "a5294d1e-a819-4580-f913-d9a568e121bf",
        "colab": {
          "base_uri": "https://localhost:8080/",
          "height": 206
        }
      },
      "source": [
        "## same item id is same as movie id, item id column is renamed as movie id\n",
        "column_names1 = ['user id','movie id','rating','timestamp']\n",
        "ratings_dataset = pd.read_csv('ml-100k/u.data', sep='\\t',header=None,names=column_names1)\n",
        "ratings_dataset.head() "
      ],
      "execution_count": 37,
      "outputs": [
        {
          "output_type": "execute_result",
          "data": {
            "text/plain": [
              "   user id  movie id  rating  timestamp\n",
              "0      196       242       3  881250949\n",
              "1      186       302       3  891717742\n",
              "2       22       377       1  878887116\n",
              "3      244        51       2  880606923\n",
              "4      166       346       1  886397596"
            ],
            "text/html": [
              "\n",
              "  <div id=\"df-f6cb17d4-3b0c-4ef9-b113-3748fb098278\">\n",
              "    <div class=\"colab-df-container\">\n",
              "      <div>\n",
              "<style scoped>\n",
              "    .dataframe tbody tr th:only-of-type {\n",
              "        vertical-align: middle;\n",
              "    }\n",
              "\n",
              "    .dataframe tbody tr th {\n",
              "        vertical-align: top;\n",
              "    }\n",
              "\n",
              "    .dataframe thead th {\n",
              "        text-align: right;\n",
              "    }\n",
              "</style>\n",
              "<table border=\"1\" class=\"dataframe\">\n",
              "  <thead>\n",
              "    <tr style=\"text-align: right;\">\n",
              "      <th></th>\n",
              "      <th>user id</th>\n",
              "      <th>movie id</th>\n",
              "      <th>rating</th>\n",
              "      <th>timestamp</th>\n",
              "    </tr>\n",
              "  </thead>\n",
              "  <tbody>\n",
              "    <tr>\n",
              "      <th>0</th>\n",
              "      <td>196</td>\n",
              "      <td>242</td>\n",
              "      <td>3</td>\n",
              "      <td>881250949</td>\n",
              "    </tr>\n",
              "    <tr>\n",
              "      <th>1</th>\n",
              "      <td>186</td>\n",
              "      <td>302</td>\n",
              "      <td>3</td>\n",
              "      <td>891717742</td>\n",
              "    </tr>\n",
              "    <tr>\n",
              "      <th>2</th>\n",
              "      <td>22</td>\n",
              "      <td>377</td>\n",
              "      <td>1</td>\n",
              "      <td>878887116</td>\n",
              "    </tr>\n",
              "    <tr>\n",
              "      <th>3</th>\n",
              "      <td>244</td>\n",
              "      <td>51</td>\n",
              "      <td>2</td>\n",
              "      <td>880606923</td>\n",
              "    </tr>\n",
              "    <tr>\n",
              "      <th>4</th>\n",
              "      <td>166</td>\n",
              "      <td>346</td>\n",
              "      <td>1</td>\n",
              "      <td>886397596</td>\n",
              "    </tr>\n",
              "  </tbody>\n",
              "</table>\n",
              "</div>\n",
              "      <button class=\"colab-df-convert\" onclick=\"convertToInteractive('df-f6cb17d4-3b0c-4ef9-b113-3748fb098278')\"\n",
              "              title=\"Convert this dataframe to an interactive table.\"\n",
              "              style=\"display:none;\">\n",
              "        \n",
              "  <svg xmlns=\"http://www.w3.org/2000/svg\" height=\"24px\"viewBox=\"0 0 24 24\"\n",
              "       width=\"24px\">\n",
              "    <path d=\"M0 0h24v24H0V0z\" fill=\"none\"/>\n",
              "    <path d=\"M18.56 5.44l.94 2.06.94-2.06 2.06-.94-2.06-.94-.94-2.06-.94 2.06-2.06.94zm-11 1L8.5 8.5l.94-2.06 2.06-.94-2.06-.94L8.5 2.5l-.94 2.06-2.06.94zm10 10l.94 2.06.94-2.06 2.06-.94-2.06-.94-.94-2.06-.94 2.06-2.06.94z\"/><path d=\"M17.41 7.96l-1.37-1.37c-.4-.4-.92-.59-1.43-.59-.52 0-1.04.2-1.43.59L10.3 9.45l-7.72 7.72c-.78.78-.78 2.05 0 2.83L4 21.41c.39.39.9.59 1.41.59.51 0 1.02-.2 1.41-.59l7.78-7.78 2.81-2.81c.8-.78.8-2.07 0-2.86zM5.41 20L4 18.59l7.72-7.72 1.47 1.35L5.41 20z\"/>\n",
              "  </svg>\n",
              "      </button>\n",
              "      \n",
              "  <style>\n",
              "    .colab-df-container {\n",
              "      display:flex;\n",
              "      flex-wrap:wrap;\n",
              "      gap: 12px;\n",
              "    }\n",
              "\n",
              "    .colab-df-convert {\n",
              "      background-color: #E8F0FE;\n",
              "      border: none;\n",
              "      border-radius: 50%;\n",
              "      cursor: pointer;\n",
              "      display: none;\n",
              "      fill: #1967D2;\n",
              "      height: 32px;\n",
              "      padding: 0 0 0 0;\n",
              "      width: 32px;\n",
              "    }\n",
              "\n",
              "    .colab-df-convert:hover {\n",
              "      background-color: #E2EBFA;\n",
              "      box-shadow: 0px 1px 2px rgba(60, 64, 67, 0.3), 0px 1px 3px 1px rgba(60, 64, 67, 0.15);\n",
              "      fill: #174EA6;\n",
              "    }\n",
              "\n",
              "    [theme=dark] .colab-df-convert {\n",
              "      background-color: #3B4455;\n",
              "      fill: #D2E3FC;\n",
              "    }\n",
              "\n",
              "    [theme=dark] .colab-df-convert:hover {\n",
              "      background-color: #434B5C;\n",
              "      box-shadow: 0px 1px 3px 1px rgba(0, 0, 0, 0.15);\n",
              "      filter: drop-shadow(0px 1px 2px rgba(0, 0, 0, 0.3));\n",
              "      fill: #FFFFFF;\n",
              "    }\n",
              "  </style>\n",
              "\n",
              "      <script>\n",
              "        const buttonEl =\n",
              "          document.querySelector('#df-f6cb17d4-3b0c-4ef9-b113-3748fb098278 button.colab-df-convert');\n",
              "        buttonEl.style.display =\n",
              "          google.colab.kernel.accessAllowed ? 'block' : 'none';\n",
              "\n",
              "        async function convertToInteractive(key) {\n",
              "          const element = document.querySelector('#df-f6cb17d4-3b0c-4ef9-b113-3748fb098278');\n",
              "          const dataTable =\n",
              "            await google.colab.kernel.invokeFunction('convertToInteractive',\n",
              "                                                     [key], {});\n",
              "          if (!dataTable) return;\n",
              "\n",
              "          const docLinkHtml = 'Like what you see? Visit the ' +\n",
              "            '<a target=\"_blank\" href=https://colab.research.google.com/notebooks/data_table.ipynb>data table notebook</a>'\n",
              "            + ' to learn more about interactive tables.';\n",
              "          element.innerHTML = '';\n",
              "          dataTable['output_type'] = 'display_data';\n",
              "          await google.colab.output.renderOutput(dataTable, element);\n",
              "          const docLink = document.createElement('div');\n",
              "          docLink.innerHTML = docLinkHtml;\n",
              "          element.appendChild(docLink);\n",
              "        }\n",
              "      </script>\n",
              "    </div>\n",
              "  </div>\n",
              "  "
            ]
          },
          "metadata": {},
          "execution_count": 37
        }
      ]
    },
    {
      "cell_type": "code",
      "metadata": {
        "id": "1qxF6i4zRMGj",
        "outputId": "7edabfde-3e79-42d3-f716-a68e0a4cbfc7",
        "colab": {
          "base_uri": "https://localhost:8080/"
        }
      },
      "source": [
        "d = 'movie id | movie title | release date | video release date | IMDb URL | unknown | Action | Adventure | Animation | Children | Comedy | Crime | Documentary | Drama | Fantasy | Film-Noir | Horror | Musical | Mystery | Romance | Sci-Fi | Thriller | War | Western'\n",
        "column_names2 = d.split(' | ')\n",
        "print(column_names2)"
      ],
      "execution_count": 38,
      "outputs": [
        {
          "output_type": "stream",
          "name": "stdout",
          "text": [
            "['movie id', 'movie title', 'release date', 'video release date', 'IMDb URL', 'unknown', 'Action', 'Adventure', 'Animation', 'Children', 'Comedy', 'Crime', 'Documentary', 'Drama', 'Fantasy', 'Film-Noir', 'Horror', 'Musical', 'Mystery', 'Romance', 'Sci-Fi', 'Thriller', 'War', 'Western']\n"
          ]
        }
      ]
    },
    {
      "cell_type": "code",
      "metadata": {
        "id": "fZKhPm9dRqvR",
        "outputId": "c1d5ff73-6462-4cc0-aa25-aa5ea7f21d2d",
        "colab": {
          "base_uri": "https://localhost:8080/",
          "height": 455
        }
      },
      "source": [
        "items_dataset = pd.read_csv('ml-100k/u.item', sep='|',header=None,names=column_names2,encoding='latin-1')\n",
        "items_dataset.head()"
      ],
      "execution_count": 39,
      "outputs": [
        {
          "output_type": "execute_result",
          "data": {
            "text/plain": [
              "   movie id        movie title release date  video release date  \\\n",
              "0         1   Toy Story (1995)  01-Jan-1995                 NaN   \n",
              "1         2   GoldenEye (1995)  01-Jan-1995                 NaN   \n",
              "2         3  Four Rooms (1995)  01-Jan-1995                 NaN   \n",
              "3         4  Get Shorty (1995)  01-Jan-1995                 NaN   \n",
              "4         5     Copycat (1995)  01-Jan-1995                 NaN   \n",
              "\n",
              "                                            IMDb URL  unknown  Action  \\\n",
              "0  http://us.imdb.com/M/title-exact?Toy%20Story%2...        0       0   \n",
              "1  http://us.imdb.com/M/title-exact?GoldenEye%20(...        0       1   \n",
              "2  http://us.imdb.com/M/title-exact?Four%20Rooms%...        0       0   \n",
              "3  http://us.imdb.com/M/title-exact?Get%20Shorty%...        0       1   \n",
              "4  http://us.imdb.com/M/title-exact?Copycat%20(1995)        0       0   \n",
              "\n",
              "   Adventure  Animation  Children  ...  Fantasy  Film-Noir  Horror  Musical  \\\n",
              "0          0          1         1  ...        0          0       0        0   \n",
              "1          1          0         0  ...        0          0       0        0   \n",
              "2          0          0         0  ...        0          0       0        0   \n",
              "3          0          0         0  ...        0          0       0        0   \n",
              "4          0          0         0  ...        0          0       0        0   \n",
              "\n",
              "   Mystery  Romance  Sci-Fi  Thriller  War  Western  \n",
              "0        0        0       0         0    0        0  \n",
              "1        0        0       0         1    0        0  \n",
              "2        0        0       0         1    0        0  \n",
              "3        0        0       0         0    0        0  \n",
              "4        0        0       0         1    0        0  \n",
              "\n",
              "[5 rows x 24 columns]"
            ],
            "text/html": [
              "\n",
              "  <div id=\"df-0136c2d3-1dc9-491a-86c0-751140af0000\">\n",
              "    <div class=\"colab-df-container\">\n",
              "      <div>\n",
              "<style scoped>\n",
              "    .dataframe tbody tr th:only-of-type {\n",
              "        vertical-align: middle;\n",
              "    }\n",
              "\n",
              "    .dataframe tbody tr th {\n",
              "        vertical-align: top;\n",
              "    }\n",
              "\n",
              "    .dataframe thead th {\n",
              "        text-align: right;\n",
              "    }\n",
              "</style>\n",
              "<table border=\"1\" class=\"dataframe\">\n",
              "  <thead>\n",
              "    <tr style=\"text-align: right;\">\n",
              "      <th></th>\n",
              "      <th>movie id</th>\n",
              "      <th>movie title</th>\n",
              "      <th>release date</th>\n",
              "      <th>video release date</th>\n",
              "      <th>IMDb URL</th>\n",
              "      <th>unknown</th>\n",
              "      <th>Action</th>\n",
              "      <th>Adventure</th>\n",
              "      <th>Animation</th>\n",
              "      <th>Children</th>\n",
              "      <th>...</th>\n",
              "      <th>Fantasy</th>\n",
              "      <th>Film-Noir</th>\n",
              "      <th>Horror</th>\n",
              "      <th>Musical</th>\n",
              "      <th>Mystery</th>\n",
              "      <th>Romance</th>\n",
              "      <th>Sci-Fi</th>\n",
              "      <th>Thriller</th>\n",
              "      <th>War</th>\n",
              "      <th>Western</th>\n",
              "    </tr>\n",
              "  </thead>\n",
              "  <tbody>\n",
              "    <tr>\n",
              "      <th>0</th>\n",
              "      <td>1</td>\n",
              "      <td>Toy Story (1995)</td>\n",
              "      <td>01-Jan-1995</td>\n",
              "      <td>NaN</td>\n",
              "      <td>http://us.imdb.com/M/title-exact?Toy%20Story%2...</td>\n",
              "      <td>0</td>\n",
              "      <td>0</td>\n",
              "      <td>0</td>\n",
              "      <td>1</td>\n",
              "      <td>1</td>\n",
              "      <td>...</td>\n",
              "      <td>0</td>\n",
              "      <td>0</td>\n",
              "      <td>0</td>\n",
              "      <td>0</td>\n",
              "      <td>0</td>\n",
              "      <td>0</td>\n",
              "      <td>0</td>\n",
              "      <td>0</td>\n",
              "      <td>0</td>\n",
              "      <td>0</td>\n",
              "    </tr>\n",
              "    <tr>\n",
              "      <th>1</th>\n",
              "      <td>2</td>\n",
              "      <td>GoldenEye (1995)</td>\n",
              "      <td>01-Jan-1995</td>\n",
              "      <td>NaN</td>\n",
              "      <td>http://us.imdb.com/M/title-exact?GoldenEye%20(...</td>\n",
              "      <td>0</td>\n",
              "      <td>1</td>\n",
              "      <td>1</td>\n",
              "      <td>0</td>\n",
              "      <td>0</td>\n",
              "      <td>...</td>\n",
              "      <td>0</td>\n",
              "      <td>0</td>\n",
              "      <td>0</td>\n",
              "      <td>0</td>\n",
              "      <td>0</td>\n",
              "      <td>0</td>\n",
              "      <td>0</td>\n",
              "      <td>1</td>\n",
              "      <td>0</td>\n",
              "      <td>0</td>\n",
              "    </tr>\n",
              "    <tr>\n",
              "      <th>2</th>\n",
              "      <td>3</td>\n",
              "      <td>Four Rooms (1995)</td>\n",
              "      <td>01-Jan-1995</td>\n",
              "      <td>NaN</td>\n",
              "      <td>http://us.imdb.com/M/title-exact?Four%20Rooms%...</td>\n",
              "      <td>0</td>\n",
              "      <td>0</td>\n",
              "      <td>0</td>\n",
              "      <td>0</td>\n",
              "      <td>0</td>\n",
              "      <td>...</td>\n",
              "      <td>0</td>\n",
              "      <td>0</td>\n",
              "      <td>0</td>\n",
              "      <td>0</td>\n",
              "      <td>0</td>\n",
              "      <td>0</td>\n",
              "      <td>0</td>\n",
              "      <td>1</td>\n",
              "      <td>0</td>\n",
              "      <td>0</td>\n",
              "    </tr>\n",
              "    <tr>\n",
              "      <th>3</th>\n",
              "      <td>4</td>\n",
              "      <td>Get Shorty (1995)</td>\n",
              "      <td>01-Jan-1995</td>\n",
              "      <td>NaN</td>\n",
              "      <td>http://us.imdb.com/M/title-exact?Get%20Shorty%...</td>\n",
              "      <td>0</td>\n",
              "      <td>1</td>\n",
              "      <td>0</td>\n",
              "      <td>0</td>\n",
              "      <td>0</td>\n",
              "      <td>...</td>\n",
              "      <td>0</td>\n",
              "      <td>0</td>\n",
              "      <td>0</td>\n",
              "      <td>0</td>\n",
              "      <td>0</td>\n",
              "      <td>0</td>\n",
              "      <td>0</td>\n",
              "      <td>0</td>\n",
              "      <td>0</td>\n",
              "      <td>0</td>\n",
              "    </tr>\n",
              "    <tr>\n",
              "      <th>4</th>\n",
              "      <td>5</td>\n",
              "      <td>Copycat (1995)</td>\n",
              "      <td>01-Jan-1995</td>\n",
              "      <td>NaN</td>\n",
              "      <td>http://us.imdb.com/M/title-exact?Copycat%20(1995)</td>\n",
              "      <td>0</td>\n",
              "      <td>0</td>\n",
              "      <td>0</td>\n",
              "      <td>0</td>\n",
              "      <td>0</td>\n",
              "      <td>...</td>\n",
              "      <td>0</td>\n",
              "      <td>0</td>\n",
              "      <td>0</td>\n",
              "      <td>0</td>\n",
              "      <td>0</td>\n",
              "      <td>0</td>\n",
              "      <td>0</td>\n",
              "      <td>1</td>\n",
              "      <td>0</td>\n",
              "      <td>0</td>\n",
              "    </tr>\n",
              "  </tbody>\n",
              "</table>\n",
              "<p>5 rows × 24 columns</p>\n",
              "</div>\n",
              "      <button class=\"colab-df-convert\" onclick=\"convertToInteractive('df-0136c2d3-1dc9-491a-86c0-751140af0000')\"\n",
              "              title=\"Convert this dataframe to an interactive table.\"\n",
              "              style=\"display:none;\">\n",
              "        \n",
              "  <svg xmlns=\"http://www.w3.org/2000/svg\" height=\"24px\"viewBox=\"0 0 24 24\"\n",
              "       width=\"24px\">\n",
              "    <path d=\"M0 0h24v24H0V0z\" fill=\"none\"/>\n",
              "    <path d=\"M18.56 5.44l.94 2.06.94-2.06 2.06-.94-2.06-.94-.94-2.06-.94 2.06-2.06.94zm-11 1L8.5 8.5l.94-2.06 2.06-.94-2.06-.94L8.5 2.5l-.94 2.06-2.06.94zm10 10l.94 2.06.94-2.06 2.06-.94-2.06-.94-.94-2.06-.94 2.06-2.06.94z\"/><path d=\"M17.41 7.96l-1.37-1.37c-.4-.4-.92-.59-1.43-.59-.52 0-1.04.2-1.43.59L10.3 9.45l-7.72 7.72c-.78.78-.78 2.05 0 2.83L4 21.41c.39.39.9.59 1.41.59.51 0 1.02-.2 1.41-.59l7.78-7.78 2.81-2.81c.8-.78.8-2.07 0-2.86zM5.41 20L4 18.59l7.72-7.72 1.47 1.35L5.41 20z\"/>\n",
              "  </svg>\n",
              "      </button>\n",
              "      \n",
              "  <style>\n",
              "    .colab-df-container {\n",
              "      display:flex;\n",
              "      flex-wrap:wrap;\n",
              "      gap: 12px;\n",
              "    }\n",
              "\n",
              "    .colab-df-convert {\n",
              "      background-color: #E8F0FE;\n",
              "      border: none;\n",
              "      border-radius: 50%;\n",
              "      cursor: pointer;\n",
              "      display: none;\n",
              "      fill: #1967D2;\n",
              "      height: 32px;\n",
              "      padding: 0 0 0 0;\n",
              "      width: 32px;\n",
              "    }\n",
              "\n",
              "    .colab-df-convert:hover {\n",
              "      background-color: #E2EBFA;\n",
              "      box-shadow: 0px 1px 2px rgba(60, 64, 67, 0.3), 0px 1px 3px 1px rgba(60, 64, 67, 0.15);\n",
              "      fill: #174EA6;\n",
              "    }\n",
              "\n",
              "    [theme=dark] .colab-df-convert {\n",
              "      background-color: #3B4455;\n",
              "      fill: #D2E3FC;\n",
              "    }\n",
              "\n",
              "    [theme=dark] .colab-df-convert:hover {\n",
              "      background-color: #434B5C;\n",
              "      box-shadow: 0px 1px 3px 1px rgba(0, 0, 0, 0.15);\n",
              "      filter: drop-shadow(0px 1px 2px rgba(0, 0, 0, 0.3));\n",
              "      fill: #FFFFFF;\n",
              "    }\n",
              "  </style>\n",
              "\n",
              "      <script>\n",
              "        const buttonEl =\n",
              "          document.querySelector('#df-0136c2d3-1dc9-491a-86c0-751140af0000 button.colab-df-convert');\n",
              "        buttonEl.style.display =\n",
              "          google.colab.kernel.accessAllowed ? 'block' : 'none';\n",
              "\n",
              "        async function convertToInteractive(key) {\n",
              "          const element = document.querySelector('#df-0136c2d3-1dc9-491a-86c0-751140af0000');\n",
              "          const dataTable =\n",
              "            await google.colab.kernel.invokeFunction('convertToInteractive',\n",
              "                                                     [key], {});\n",
              "          if (!dataTable) return;\n",
              "\n",
              "          const docLinkHtml = 'Like what you see? Visit the ' +\n",
              "            '<a target=\"_blank\" href=https://colab.research.google.com/notebooks/data_table.ipynb>data table notebook</a>'\n",
              "            + ' to learn more about interactive tables.';\n",
              "          element.innerHTML = '';\n",
              "          dataTable['output_type'] = 'display_data';\n",
              "          await google.colab.output.renderOutput(dataTable, element);\n",
              "          const docLink = document.createElement('div');\n",
              "          docLink.innerHTML = docLinkHtml;\n",
              "          element.appendChild(docLink);\n",
              "        }\n",
              "      </script>\n",
              "    </div>\n",
              "  </div>\n",
              "  "
            ]
          },
          "metadata": {},
          "execution_count": 39
        }
      ]
    },
    {
      "cell_type": "code",
      "metadata": {
        "id": "zjMViWz_SDlJ",
        "outputId": "00f3064c-0d1e-4442-8bcf-ced1542d09b0",
        "colab": {
          "base_uri": "https://localhost:8080/",
          "height": 206
        }
      },
      "source": [
        "movie_dataset = items_dataset[['movie id','movie title']]\n",
        "movie_dataset.head()"
      ],
      "execution_count": 40,
      "outputs": [
        {
          "output_type": "execute_result",
          "data": {
            "text/plain": [
              "   movie id        movie title\n",
              "0         1   Toy Story (1995)\n",
              "1         2   GoldenEye (1995)\n",
              "2         3  Four Rooms (1995)\n",
              "3         4  Get Shorty (1995)\n",
              "4         5     Copycat (1995)"
            ],
            "text/html": [
              "\n",
              "  <div id=\"df-6716d01c-9f28-4e25-97c9-61cb2d6eaed8\">\n",
              "    <div class=\"colab-df-container\">\n",
              "      <div>\n",
              "<style scoped>\n",
              "    .dataframe tbody tr th:only-of-type {\n",
              "        vertical-align: middle;\n",
              "    }\n",
              "\n",
              "    .dataframe tbody tr th {\n",
              "        vertical-align: top;\n",
              "    }\n",
              "\n",
              "    .dataframe thead th {\n",
              "        text-align: right;\n",
              "    }\n",
              "</style>\n",
              "<table border=\"1\" class=\"dataframe\">\n",
              "  <thead>\n",
              "    <tr style=\"text-align: right;\">\n",
              "      <th></th>\n",
              "      <th>movie id</th>\n",
              "      <th>movie title</th>\n",
              "    </tr>\n",
              "  </thead>\n",
              "  <tbody>\n",
              "    <tr>\n",
              "      <th>0</th>\n",
              "      <td>1</td>\n",
              "      <td>Toy Story (1995)</td>\n",
              "    </tr>\n",
              "    <tr>\n",
              "      <th>1</th>\n",
              "      <td>2</td>\n",
              "      <td>GoldenEye (1995)</td>\n",
              "    </tr>\n",
              "    <tr>\n",
              "      <th>2</th>\n",
              "      <td>3</td>\n",
              "      <td>Four Rooms (1995)</td>\n",
              "    </tr>\n",
              "    <tr>\n",
              "      <th>3</th>\n",
              "      <td>4</td>\n",
              "      <td>Get Shorty (1995)</td>\n",
              "    </tr>\n",
              "    <tr>\n",
              "      <th>4</th>\n",
              "      <td>5</td>\n",
              "      <td>Copycat (1995)</td>\n",
              "    </tr>\n",
              "  </tbody>\n",
              "</table>\n",
              "</div>\n",
              "      <button class=\"colab-df-convert\" onclick=\"convertToInteractive('df-6716d01c-9f28-4e25-97c9-61cb2d6eaed8')\"\n",
              "              title=\"Convert this dataframe to an interactive table.\"\n",
              "              style=\"display:none;\">\n",
              "        \n",
              "  <svg xmlns=\"http://www.w3.org/2000/svg\" height=\"24px\"viewBox=\"0 0 24 24\"\n",
              "       width=\"24px\">\n",
              "    <path d=\"M0 0h24v24H0V0z\" fill=\"none\"/>\n",
              "    <path d=\"M18.56 5.44l.94 2.06.94-2.06 2.06-.94-2.06-.94-.94-2.06-.94 2.06-2.06.94zm-11 1L8.5 8.5l.94-2.06 2.06-.94-2.06-.94L8.5 2.5l-.94 2.06-2.06.94zm10 10l.94 2.06.94-2.06 2.06-.94-2.06-.94-.94-2.06-.94 2.06-2.06.94z\"/><path d=\"M17.41 7.96l-1.37-1.37c-.4-.4-.92-.59-1.43-.59-.52 0-1.04.2-1.43.59L10.3 9.45l-7.72 7.72c-.78.78-.78 2.05 0 2.83L4 21.41c.39.39.9.59 1.41.59.51 0 1.02-.2 1.41-.59l7.78-7.78 2.81-2.81c.8-.78.8-2.07 0-2.86zM5.41 20L4 18.59l7.72-7.72 1.47 1.35L5.41 20z\"/>\n",
              "  </svg>\n",
              "      </button>\n",
              "      \n",
              "  <style>\n",
              "    .colab-df-container {\n",
              "      display:flex;\n",
              "      flex-wrap:wrap;\n",
              "      gap: 12px;\n",
              "    }\n",
              "\n",
              "    .colab-df-convert {\n",
              "      background-color: #E8F0FE;\n",
              "      border: none;\n",
              "      border-radius: 50%;\n",
              "      cursor: pointer;\n",
              "      display: none;\n",
              "      fill: #1967D2;\n",
              "      height: 32px;\n",
              "      padding: 0 0 0 0;\n",
              "      width: 32px;\n",
              "    }\n",
              "\n",
              "    .colab-df-convert:hover {\n",
              "      background-color: #E2EBFA;\n",
              "      box-shadow: 0px 1px 2px rgba(60, 64, 67, 0.3), 0px 1px 3px 1px rgba(60, 64, 67, 0.15);\n",
              "      fill: #174EA6;\n",
              "    }\n",
              "\n",
              "    [theme=dark] .colab-df-convert {\n",
              "      background-color: #3B4455;\n",
              "      fill: #D2E3FC;\n",
              "    }\n",
              "\n",
              "    [theme=dark] .colab-df-convert:hover {\n",
              "      background-color: #434B5C;\n",
              "      box-shadow: 0px 1px 3px 1px rgba(0, 0, 0, 0.15);\n",
              "      filter: drop-shadow(0px 1px 2px rgba(0, 0, 0, 0.3));\n",
              "      fill: #FFFFFF;\n",
              "    }\n",
              "  </style>\n",
              "\n",
              "      <script>\n",
              "        const buttonEl =\n",
              "          document.querySelector('#df-6716d01c-9f28-4e25-97c9-61cb2d6eaed8 button.colab-df-convert');\n",
              "        buttonEl.style.display =\n",
              "          google.colab.kernel.accessAllowed ? 'block' : 'none';\n",
              "\n",
              "        async function convertToInteractive(key) {\n",
              "          const element = document.querySelector('#df-6716d01c-9f28-4e25-97c9-61cb2d6eaed8');\n",
              "          const dataTable =\n",
              "            await google.colab.kernel.invokeFunction('convertToInteractive',\n",
              "                                                     [key], {});\n",
              "          if (!dataTable) return;\n",
              "\n",
              "          const docLinkHtml = 'Like what you see? Visit the ' +\n",
              "            '<a target=\"_blank\" href=https://colab.research.google.com/notebooks/data_table.ipynb>data table notebook</a>'\n",
              "            + ' to learn more about interactive tables.';\n",
              "          element.innerHTML = '';\n",
              "          dataTable['output_type'] = 'display_data';\n",
              "          await google.colab.output.renderOutput(dataTable, element);\n",
              "          const docLink = document.createElement('div');\n",
              "          docLink.innerHTML = docLinkHtml;\n",
              "          element.appendChild(docLink);\n",
              "        }\n",
              "      </script>\n",
              "    </div>\n",
              "  </div>\n",
              "  "
            ]
          },
          "metadata": {},
          "execution_count": 40
        }
      ]
    },
    {
      "cell_type": "code",
      "metadata": {
        "id": "sdzz8nUySG_q",
        "outputId": "c64aa692-86d7-4067-c901-99ec59b84c62",
        "colab": {
          "base_uri": "https://localhost:8080/"
        }
      },
      "source": [
        "## looking at length of original items_dataset and length of unique combination of rows in items_dataset after removing movie id column\n",
        "len(items_dataset.groupby(by=column_names2[1:])),len(items_dataset)"
      ],
      "execution_count": 41,
      "outputs": [
        {
          "output_type": "execute_result",
          "data": {
            "text/plain": [
              "(1664, 1682)"
            ]
          },
          "metadata": {},
          "execution_count": 41
        }
      ]
    },
    {
      "cell_type": "markdown",
      "metadata": {
        "id": "zcsMvVNrS82A"
      },
      "source": [
        "We can see there are 18 extra movie id's for already mapped movie title and the same duplicate movie id is assigned to the user in the user-item dataset."
      ]
    },
    {
      "cell_type": "markdown",
      "metadata": {
        "id": "V1vln0JRTA9J"
      },
      "source": [
        "#Merging required datasets"
      ]
    },
    {
      "cell_type": "code",
      "metadata": {
        "id": "IBOXHTmvS6Ex",
        "outputId": "e2d39fc3-319f-4221-c123-5e0c6ed861d9",
        "colab": {
          "base_uri": "https://localhost:8080/",
          "height": 206
        }
      },
      "source": [
        "merged_dataset = pd.merge(ratings_dataset, movie_dataset, how='inner', on='movie id')\n",
        "merged_dataset.head()"
      ],
      "execution_count": 42,
      "outputs": [
        {
          "output_type": "execute_result",
          "data": {
            "text/plain": [
              "   user id  movie id  rating  timestamp   movie title\n",
              "0      196       242       3  881250949  Kolya (1996)\n",
              "1       63       242       3  875747190  Kolya (1996)\n",
              "2      226       242       5  883888671  Kolya (1996)\n",
              "3      154       242       3  879138235  Kolya (1996)\n",
              "4      306       242       5  876503793  Kolya (1996)"
            ],
            "text/html": [
              "\n",
              "  <div id=\"df-b2f77742-a466-4e41-a0e2-11285339a495\">\n",
              "    <div class=\"colab-df-container\">\n",
              "      <div>\n",
              "<style scoped>\n",
              "    .dataframe tbody tr th:only-of-type {\n",
              "        vertical-align: middle;\n",
              "    }\n",
              "\n",
              "    .dataframe tbody tr th {\n",
              "        vertical-align: top;\n",
              "    }\n",
              "\n",
              "    .dataframe thead th {\n",
              "        text-align: right;\n",
              "    }\n",
              "</style>\n",
              "<table border=\"1\" class=\"dataframe\">\n",
              "  <thead>\n",
              "    <tr style=\"text-align: right;\">\n",
              "      <th></th>\n",
              "      <th>user id</th>\n",
              "      <th>movie id</th>\n",
              "      <th>rating</th>\n",
              "      <th>timestamp</th>\n",
              "      <th>movie title</th>\n",
              "    </tr>\n",
              "  </thead>\n",
              "  <tbody>\n",
              "    <tr>\n",
              "      <th>0</th>\n",
              "      <td>196</td>\n",
              "      <td>242</td>\n",
              "      <td>3</td>\n",
              "      <td>881250949</td>\n",
              "      <td>Kolya (1996)</td>\n",
              "    </tr>\n",
              "    <tr>\n",
              "      <th>1</th>\n",
              "      <td>63</td>\n",
              "      <td>242</td>\n",
              "      <td>3</td>\n",
              "      <td>875747190</td>\n",
              "      <td>Kolya (1996)</td>\n",
              "    </tr>\n",
              "    <tr>\n",
              "      <th>2</th>\n",
              "      <td>226</td>\n",
              "      <td>242</td>\n",
              "      <td>5</td>\n",
              "      <td>883888671</td>\n",
              "      <td>Kolya (1996)</td>\n",
              "    </tr>\n",
              "    <tr>\n",
              "      <th>3</th>\n",
              "      <td>154</td>\n",
              "      <td>242</td>\n",
              "      <td>3</td>\n",
              "      <td>879138235</td>\n",
              "      <td>Kolya (1996)</td>\n",
              "    </tr>\n",
              "    <tr>\n",
              "      <th>4</th>\n",
              "      <td>306</td>\n",
              "      <td>242</td>\n",
              "      <td>5</td>\n",
              "      <td>876503793</td>\n",
              "      <td>Kolya (1996)</td>\n",
              "    </tr>\n",
              "  </tbody>\n",
              "</table>\n",
              "</div>\n",
              "      <button class=\"colab-df-convert\" onclick=\"convertToInteractive('df-b2f77742-a466-4e41-a0e2-11285339a495')\"\n",
              "              title=\"Convert this dataframe to an interactive table.\"\n",
              "              style=\"display:none;\">\n",
              "        \n",
              "  <svg xmlns=\"http://www.w3.org/2000/svg\" height=\"24px\"viewBox=\"0 0 24 24\"\n",
              "       width=\"24px\">\n",
              "    <path d=\"M0 0h24v24H0V0z\" fill=\"none\"/>\n",
              "    <path d=\"M18.56 5.44l.94 2.06.94-2.06 2.06-.94-2.06-.94-.94-2.06-.94 2.06-2.06.94zm-11 1L8.5 8.5l.94-2.06 2.06-.94-2.06-.94L8.5 2.5l-.94 2.06-2.06.94zm10 10l.94 2.06.94-2.06 2.06-.94-2.06-.94-.94-2.06-.94 2.06-2.06.94z\"/><path d=\"M17.41 7.96l-1.37-1.37c-.4-.4-.92-.59-1.43-.59-.52 0-1.04.2-1.43.59L10.3 9.45l-7.72 7.72c-.78.78-.78 2.05 0 2.83L4 21.41c.39.39.9.59 1.41.59.51 0 1.02-.2 1.41-.59l7.78-7.78 2.81-2.81c.8-.78.8-2.07 0-2.86zM5.41 20L4 18.59l7.72-7.72 1.47 1.35L5.41 20z\"/>\n",
              "  </svg>\n",
              "      </button>\n",
              "      \n",
              "  <style>\n",
              "    .colab-df-container {\n",
              "      display:flex;\n",
              "      flex-wrap:wrap;\n",
              "      gap: 12px;\n",
              "    }\n",
              "\n",
              "    .colab-df-convert {\n",
              "      background-color: #E8F0FE;\n",
              "      border: none;\n",
              "      border-radius: 50%;\n",
              "      cursor: pointer;\n",
              "      display: none;\n",
              "      fill: #1967D2;\n",
              "      height: 32px;\n",
              "      padding: 0 0 0 0;\n",
              "      width: 32px;\n",
              "    }\n",
              "\n",
              "    .colab-df-convert:hover {\n",
              "      background-color: #E2EBFA;\n",
              "      box-shadow: 0px 1px 2px rgba(60, 64, 67, 0.3), 0px 1px 3px 1px rgba(60, 64, 67, 0.15);\n",
              "      fill: #174EA6;\n",
              "    }\n",
              "\n",
              "    [theme=dark] .colab-df-convert {\n",
              "      background-color: #3B4455;\n",
              "      fill: #D2E3FC;\n",
              "    }\n",
              "\n",
              "    [theme=dark] .colab-df-convert:hover {\n",
              "      background-color: #434B5C;\n",
              "      box-shadow: 0px 1px 3px 1px rgba(0, 0, 0, 0.15);\n",
              "      filter: drop-shadow(0px 1px 2px rgba(0, 0, 0, 0.3));\n",
              "      fill: #FFFFFF;\n",
              "    }\n",
              "  </style>\n",
              "\n",
              "      <script>\n",
              "        const buttonEl =\n",
              "          document.querySelector('#df-b2f77742-a466-4e41-a0e2-11285339a495 button.colab-df-convert');\n",
              "        buttonEl.style.display =\n",
              "          google.colab.kernel.accessAllowed ? 'block' : 'none';\n",
              "\n",
              "        async function convertToInteractive(key) {\n",
              "          const element = document.querySelector('#df-b2f77742-a466-4e41-a0e2-11285339a495');\n",
              "          const dataTable =\n",
              "            await google.colab.kernel.invokeFunction('convertToInteractive',\n",
              "                                                     [key], {});\n",
              "          if (!dataTable) return;\n",
              "\n",
              "          const docLinkHtml = 'Like what you see? Visit the ' +\n",
              "            '<a target=\"_blank\" href=https://colab.research.google.com/notebooks/data_table.ipynb>data table notebook</a>'\n",
              "            + ' to learn more about interactive tables.';\n",
              "          element.innerHTML = '';\n",
              "          dataTable['output_type'] = 'display_data';\n",
              "          await google.colab.output.renderOutput(dataTable, element);\n",
              "          const docLink = document.createElement('div');\n",
              "          docLink.innerHTML = docLinkHtml;\n",
              "          element.appendChild(docLink);\n",
              "        }\n",
              "      </script>\n",
              "    </div>\n",
              "  </div>\n",
              "  "
            ]
          },
          "metadata": {},
          "execution_count": 42
        }
      ]
    },
    {
      "cell_type": "markdown",
      "metadata": {
        "id": "kuXOfYN-UQrP"
      },
      "source": [
        "## Creating a final refined dataset with unique user id, movie name combination and their ratings:\n"
      ]
    },
    {
      "cell_type": "code",
      "metadata": {
        "id": "gSybgvihTkgE",
        "outputId": "54d80d44-fa7a-4e90-c112-647c9efbd7b8",
        "colab": {
          "base_uri": "https://localhost:8080/",
          "height": 206
        }
      },
      "source": [
        "refined_dataset = merged_dataset.groupby(by=['user id','movie title'], as_index=False).agg({\"rating\":\"mean\"})\n",
        "\n",
        "refined_dataset.head()"
      ],
      "execution_count": 43,
      "outputs": [
        {
          "output_type": "execute_result",
          "data": {
            "text/plain": [
              "   user id                          movie title  rating\n",
              "0        1                101 Dalmatians (1996)     2.0\n",
              "1        1                  12 Angry Men (1957)     5.0\n",
              "2        1  20,000 Leagues Under the Sea (1954)     3.0\n",
              "3        1         2001: A Space Odyssey (1968)     4.0\n",
              "4        1                    Abyss, The (1989)     3.0"
            ],
            "text/html": [
              "\n",
              "  <div id=\"df-ea5d5224-5ac4-4c92-bb0c-69132d52a878\">\n",
              "    <div class=\"colab-df-container\">\n",
              "      <div>\n",
              "<style scoped>\n",
              "    .dataframe tbody tr th:only-of-type {\n",
              "        vertical-align: middle;\n",
              "    }\n",
              "\n",
              "    .dataframe tbody tr th {\n",
              "        vertical-align: top;\n",
              "    }\n",
              "\n",
              "    .dataframe thead th {\n",
              "        text-align: right;\n",
              "    }\n",
              "</style>\n",
              "<table border=\"1\" class=\"dataframe\">\n",
              "  <thead>\n",
              "    <tr style=\"text-align: right;\">\n",
              "      <th></th>\n",
              "      <th>user id</th>\n",
              "      <th>movie title</th>\n",
              "      <th>rating</th>\n",
              "    </tr>\n",
              "  </thead>\n",
              "  <tbody>\n",
              "    <tr>\n",
              "      <th>0</th>\n",
              "      <td>1</td>\n",
              "      <td>101 Dalmatians (1996)</td>\n",
              "      <td>2.0</td>\n",
              "    </tr>\n",
              "    <tr>\n",
              "      <th>1</th>\n",
              "      <td>1</td>\n",
              "      <td>12 Angry Men (1957)</td>\n",
              "      <td>5.0</td>\n",
              "    </tr>\n",
              "    <tr>\n",
              "      <th>2</th>\n",
              "      <td>1</td>\n",
              "      <td>20,000 Leagues Under the Sea (1954)</td>\n",
              "      <td>3.0</td>\n",
              "    </tr>\n",
              "    <tr>\n",
              "      <th>3</th>\n",
              "      <td>1</td>\n",
              "      <td>2001: A Space Odyssey (1968)</td>\n",
              "      <td>4.0</td>\n",
              "    </tr>\n",
              "    <tr>\n",
              "      <th>4</th>\n",
              "      <td>1</td>\n",
              "      <td>Abyss, The (1989)</td>\n",
              "      <td>3.0</td>\n",
              "    </tr>\n",
              "  </tbody>\n",
              "</table>\n",
              "</div>\n",
              "      <button class=\"colab-df-convert\" onclick=\"convertToInteractive('df-ea5d5224-5ac4-4c92-bb0c-69132d52a878')\"\n",
              "              title=\"Convert this dataframe to an interactive table.\"\n",
              "              style=\"display:none;\">\n",
              "        \n",
              "  <svg xmlns=\"http://www.w3.org/2000/svg\" height=\"24px\"viewBox=\"0 0 24 24\"\n",
              "       width=\"24px\">\n",
              "    <path d=\"M0 0h24v24H0V0z\" fill=\"none\"/>\n",
              "    <path d=\"M18.56 5.44l.94 2.06.94-2.06 2.06-.94-2.06-.94-.94-2.06-.94 2.06-2.06.94zm-11 1L8.5 8.5l.94-2.06 2.06-.94-2.06-.94L8.5 2.5l-.94 2.06-2.06.94zm10 10l.94 2.06.94-2.06 2.06-.94-2.06-.94-.94-2.06-.94 2.06-2.06.94z\"/><path d=\"M17.41 7.96l-1.37-1.37c-.4-.4-.92-.59-1.43-.59-.52 0-1.04.2-1.43.59L10.3 9.45l-7.72 7.72c-.78.78-.78 2.05 0 2.83L4 21.41c.39.39.9.59 1.41.59.51 0 1.02-.2 1.41-.59l7.78-7.78 2.81-2.81c.8-.78.8-2.07 0-2.86zM5.41 20L4 18.59l7.72-7.72 1.47 1.35L5.41 20z\"/>\n",
              "  </svg>\n",
              "      </button>\n",
              "      \n",
              "  <style>\n",
              "    .colab-df-container {\n",
              "      display:flex;\n",
              "      flex-wrap:wrap;\n",
              "      gap: 12px;\n",
              "    }\n",
              "\n",
              "    .colab-df-convert {\n",
              "      background-color: #E8F0FE;\n",
              "      border: none;\n",
              "      border-radius: 50%;\n",
              "      cursor: pointer;\n",
              "      display: none;\n",
              "      fill: #1967D2;\n",
              "      height: 32px;\n",
              "      padding: 0 0 0 0;\n",
              "      width: 32px;\n",
              "    }\n",
              "\n",
              "    .colab-df-convert:hover {\n",
              "      background-color: #E2EBFA;\n",
              "      box-shadow: 0px 1px 2px rgba(60, 64, 67, 0.3), 0px 1px 3px 1px rgba(60, 64, 67, 0.15);\n",
              "      fill: #174EA6;\n",
              "    }\n",
              "\n",
              "    [theme=dark] .colab-df-convert {\n",
              "      background-color: #3B4455;\n",
              "      fill: #D2E3FC;\n",
              "    }\n",
              "\n",
              "    [theme=dark] .colab-df-convert:hover {\n",
              "      background-color: #434B5C;\n",
              "      box-shadow: 0px 1px 3px 1px rgba(0, 0, 0, 0.15);\n",
              "      filter: drop-shadow(0px 1px 2px rgba(0, 0, 0, 0.3));\n",
              "      fill: #FFFFFF;\n",
              "    }\n",
              "  </style>\n",
              "\n",
              "      <script>\n",
              "        const buttonEl =\n",
              "          document.querySelector('#df-ea5d5224-5ac4-4c92-bb0c-69132d52a878 button.colab-df-convert');\n",
              "        buttonEl.style.display =\n",
              "          google.colab.kernel.accessAllowed ? 'block' : 'none';\n",
              "\n",
              "        async function convertToInteractive(key) {\n",
              "          const element = document.querySelector('#df-ea5d5224-5ac4-4c92-bb0c-69132d52a878');\n",
              "          const dataTable =\n",
              "            await google.colab.kernel.invokeFunction('convertToInteractive',\n",
              "                                                     [key], {});\n",
              "          if (!dataTable) return;\n",
              "\n",
              "          const docLinkHtml = 'Like what you see? Visit the ' +\n",
              "            '<a target=\"_blank\" href=https://colab.research.google.com/notebooks/data_table.ipynb>data table notebook</a>'\n",
              "            + ' to learn more about interactive tables.';\n",
              "          element.innerHTML = '';\n",
              "          dataTable['output_type'] = 'display_data';\n",
              "          await google.colab.output.renderOutput(dataTable, element);\n",
              "          const docLink = document.createElement('div');\n",
              "          docLink.innerHTML = docLinkHtml;\n",
              "          element.appendChild(docLink);\n",
              "        }\n",
              "      </script>\n",
              "    </div>\n",
              "  </div>\n",
              "  "
            ]
          },
          "metadata": {},
          "execution_count": 43
        }
      ]
    },
    {
      "cell_type": "markdown",
      "metadata": {
        "id": "OVuuEkazUn20"
      },
      "source": [
        "## Encoding users and movie titles to make sure that the sequence has no missing values when dealing with Deep Neural Networks."
      ]
    },
    {
      "cell_type": "code",
      "metadata": {
        "id": "-X1Fvj3AUTjt"
      },
      "source": [
        "user_enc = LabelEncoder()\n",
        "refined_dataset['user'] = user_enc.fit_transform(refined_dataset['user id'].values)\n",
        "n_users = refined_dataset['user'].nunique()"
      ],
      "execution_count": 44,
      "outputs": []
    },
    {
      "cell_type": "code",
      "metadata": {
        "id": "3f2vtjifW662"
      },
      "source": [
        "item_enc = LabelEncoder()\n",
        "refined_dataset['movie'] = item_enc.fit_transform(refined_dataset['movie title'].values)\n",
        "n_movies = refined_dataset['movie'].nunique()"
      ],
      "execution_count": 45,
      "outputs": []
    },
    {
      "cell_type": "code",
      "metadata": {
        "id": "OeQb6BDbXUzI",
        "outputId": "ff980433-f1c3-4a15-e0ef-837d22e3feba",
        "colab": {
          "base_uri": "https://localhost:8080/"
        }
      },
      "source": [
        "refined_dataset['rating'] = refined_dataset['rating'].values.astype(np.float32)\n",
        "min_rating = min(refined_dataset['rating'])\n",
        "max_rating = max(refined_dataset['rating'])\n",
        "n_users, n_movies, min_rating, max_rating"
      ],
      "execution_count": 46,
      "outputs": [
        {
          "output_type": "execute_result",
          "data": {
            "text/plain": [
              "(943, 1664, 1.0, 5.0)"
            ]
          },
          "metadata": {},
          "execution_count": 46
        }
      ]
    },
    {
      "cell_type": "code",
      "metadata": {
        "id": "2NLsO6VSXOD4",
        "outputId": "f20c1018-af5a-4799-cf19-284ae455dd7c",
        "colab": {
          "base_uri": "https://localhost:8080/",
          "height": 206
        }
      },
      "source": [
        "refined_dataset.head()"
      ],
      "execution_count": 47,
      "outputs": [
        {
          "output_type": "execute_result",
          "data": {
            "text/plain": [
              "   user id                          movie title  rating  user  movie\n",
              "0        1                101 Dalmatians (1996)     2.0     0      2\n",
              "1        1                  12 Angry Men (1957)     5.0     0      3\n",
              "2        1  20,000 Leagues Under the Sea (1954)     3.0     0      6\n",
              "3        1         2001: A Space Odyssey (1968)     4.0     0      7\n",
              "4        1                    Abyss, The (1989)     3.0     0     16"
            ],
            "text/html": [
              "\n",
              "  <div id=\"df-0b0de04a-d162-4930-9b12-cbe5bf0e9e8d\">\n",
              "    <div class=\"colab-df-container\">\n",
              "      <div>\n",
              "<style scoped>\n",
              "    .dataframe tbody tr th:only-of-type {\n",
              "        vertical-align: middle;\n",
              "    }\n",
              "\n",
              "    .dataframe tbody tr th {\n",
              "        vertical-align: top;\n",
              "    }\n",
              "\n",
              "    .dataframe thead th {\n",
              "        text-align: right;\n",
              "    }\n",
              "</style>\n",
              "<table border=\"1\" class=\"dataframe\">\n",
              "  <thead>\n",
              "    <tr style=\"text-align: right;\">\n",
              "      <th></th>\n",
              "      <th>user id</th>\n",
              "      <th>movie title</th>\n",
              "      <th>rating</th>\n",
              "      <th>user</th>\n",
              "      <th>movie</th>\n",
              "    </tr>\n",
              "  </thead>\n",
              "  <tbody>\n",
              "    <tr>\n",
              "      <th>0</th>\n",
              "      <td>1</td>\n",
              "      <td>101 Dalmatians (1996)</td>\n",
              "      <td>2.0</td>\n",
              "      <td>0</td>\n",
              "      <td>2</td>\n",
              "    </tr>\n",
              "    <tr>\n",
              "      <th>1</th>\n",
              "      <td>1</td>\n",
              "      <td>12 Angry Men (1957)</td>\n",
              "      <td>5.0</td>\n",
              "      <td>0</td>\n",
              "      <td>3</td>\n",
              "    </tr>\n",
              "    <tr>\n",
              "      <th>2</th>\n",
              "      <td>1</td>\n",
              "      <td>20,000 Leagues Under the Sea (1954)</td>\n",
              "      <td>3.0</td>\n",
              "      <td>0</td>\n",
              "      <td>6</td>\n",
              "    </tr>\n",
              "    <tr>\n",
              "      <th>3</th>\n",
              "      <td>1</td>\n",
              "      <td>2001: A Space Odyssey (1968)</td>\n",
              "      <td>4.0</td>\n",
              "      <td>0</td>\n",
              "      <td>7</td>\n",
              "    </tr>\n",
              "    <tr>\n",
              "      <th>4</th>\n",
              "      <td>1</td>\n",
              "      <td>Abyss, The (1989)</td>\n",
              "      <td>3.0</td>\n",
              "      <td>0</td>\n",
              "      <td>16</td>\n",
              "    </tr>\n",
              "  </tbody>\n",
              "</table>\n",
              "</div>\n",
              "      <button class=\"colab-df-convert\" onclick=\"convertToInteractive('df-0b0de04a-d162-4930-9b12-cbe5bf0e9e8d')\"\n",
              "              title=\"Convert this dataframe to an interactive table.\"\n",
              "              style=\"display:none;\">\n",
              "        \n",
              "  <svg xmlns=\"http://www.w3.org/2000/svg\" height=\"24px\"viewBox=\"0 0 24 24\"\n",
              "       width=\"24px\">\n",
              "    <path d=\"M0 0h24v24H0V0z\" fill=\"none\"/>\n",
              "    <path d=\"M18.56 5.44l.94 2.06.94-2.06 2.06-.94-2.06-.94-.94-2.06-.94 2.06-2.06.94zm-11 1L8.5 8.5l.94-2.06 2.06-.94-2.06-.94L8.5 2.5l-.94 2.06-2.06.94zm10 10l.94 2.06.94-2.06 2.06-.94-2.06-.94-.94-2.06-.94 2.06-2.06.94z\"/><path d=\"M17.41 7.96l-1.37-1.37c-.4-.4-.92-.59-1.43-.59-.52 0-1.04.2-1.43.59L10.3 9.45l-7.72 7.72c-.78.78-.78 2.05 0 2.83L4 21.41c.39.39.9.59 1.41.59.51 0 1.02-.2 1.41-.59l7.78-7.78 2.81-2.81c.8-.78.8-2.07 0-2.86zM5.41 20L4 18.59l7.72-7.72 1.47 1.35L5.41 20z\"/>\n",
              "  </svg>\n",
              "      </button>\n",
              "      \n",
              "  <style>\n",
              "    .colab-df-container {\n",
              "      display:flex;\n",
              "      flex-wrap:wrap;\n",
              "      gap: 12px;\n",
              "    }\n",
              "\n",
              "    .colab-df-convert {\n",
              "      background-color: #E8F0FE;\n",
              "      border: none;\n",
              "      border-radius: 50%;\n",
              "      cursor: pointer;\n",
              "      display: none;\n",
              "      fill: #1967D2;\n",
              "      height: 32px;\n",
              "      padding: 0 0 0 0;\n",
              "      width: 32px;\n",
              "    }\n",
              "\n",
              "    .colab-df-convert:hover {\n",
              "      background-color: #E2EBFA;\n",
              "      box-shadow: 0px 1px 2px rgba(60, 64, 67, 0.3), 0px 1px 3px 1px rgba(60, 64, 67, 0.15);\n",
              "      fill: #174EA6;\n",
              "    }\n",
              "\n",
              "    [theme=dark] .colab-df-convert {\n",
              "      background-color: #3B4455;\n",
              "      fill: #D2E3FC;\n",
              "    }\n",
              "\n",
              "    [theme=dark] .colab-df-convert:hover {\n",
              "      background-color: #434B5C;\n",
              "      box-shadow: 0px 1px 3px 1px rgba(0, 0, 0, 0.15);\n",
              "      filter: drop-shadow(0px 1px 2px rgba(0, 0, 0, 0.3));\n",
              "      fill: #FFFFFF;\n",
              "    }\n",
              "  </style>\n",
              "\n",
              "      <script>\n",
              "        const buttonEl =\n",
              "          document.querySelector('#df-0b0de04a-d162-4930-9b12-cbe5bf0e9e8d button.colab-df-convert');\n",
              "        buttonEl.style.display =\n",
              "          google.colab.kernel.accessAllowed ? 'block' : 'none';\n",
              "\n",
              "        async function convertToInteractive(key) {\n",
              "          const element = document.querySelector('#df-0b0de04a-d162-4930-9b12-cbe5bf0e9e8d');\n",
              "          const dataTable =\n",
              "            await google.colab.kernel.invokeFunction('convertToInteractive',\n",
              "                                                     [key], {});\n",
              "          if (!dataTable) return;\n",
              "\n",
              "          const docLinkHtml = 'Like what you see? Visit the ' +\n",
              "            '<a target=\"_blank\" href=https://colab.research.google.com/notebooks/data_table.ipynb>data table notebook</a>'\n",
              "            + ' to learn more about interactive tables.';\n",
              "          element.innerHTML = '';\n",
              "          dataTable['output_type'] = 'display_data';\n",
              "          await google.colab.output.renderOutput(dataTable, element);\n",
              "          const docLink = document.createElement('div');\n",
              "          docLink.innerHTML = docLinkHtml;\n",
              "          element.appendChild(docLink);\n",
              "        }\n",
              "      </script>\n",
              "    </div>\n",
              "  </div>\n",
              "  "
            ]
          },
          "metadata": {},
          "execution_count": 47
        }
      ]
    },
    {
      "cell_type": "markdown",
      "metadata": {
        "id": "3Vrfgd7TZ08C"
      },
      "source": [
        "## Splitting the data into training and testing"
      ]
    },
    {
      "cell_type": "code",
      "metadata": {
        "id": "9q04V-GnXPFs",
        "outputId": "5b0feca9-9eb3-4844-a256-d9999f5b80c1",
        "colab": {
          "base_uri": "https://localhost:8080/"
        }
      },
      "source": [
        "X = refined_dataset[['user', 'movie']].values\n",
        "y = refined_dataset['rating'].values\n",
        "X_train, X_test, y_train, y_test = train_test_split(X, y, test_size=0.1, random_state=50)\n",
        "X_train.shape, X_test.shape, y_train.shape, y_test.shape"
      ],
      "execution_count": 48,
      "outputs": [
        {
          "output_type": "execute_result",
          "data": {
            "text/plain": [
              "((89723, 2), (9970, 2), (89723,), (9970,))"
            ]
          },
          "metadata": {},
          "execution_count": 48
        }
      ]
    },
    {
      "cell_type": "markdown",
      "metadata": {
        "id": "y3s3cccxgGPy"
      },
      "source": [
        "## Defining number of factors which are to be considered by the Embedding layer"
      ]
    },
    {
      "cell_type": "code",
      "metadata": {
        "id": "zA39k64MaEfs"
      },
      "source": [
        "n_factors = 150"
      ],
      "execution_count": 49,
      "outputs": []
    },
    {
      "cell_type": "markdown",
      "metadata": {
        "id": "fcqGOsdZgaFY"
      },
      "source": [
        "Columns in the input array are split into two separate arrays. As Keras considers them as two distinct inputs, each input needs to be fed in as its own array."
      ]
    },
    {
      "cell_type": "code",
      "metadata": {
        "id": "83v-ulEIgS1l"
      },
      "source": [
        "X_train_array = [X_train[:, 0], X_train[:, 1]]\n",
        "X_test_array = [X_test[:, 0], X_test[:, 1]]"
      ],
      "execution_count": 50,
      "outputs": []
    },
    {
      "cell_type": "code",
      "metadata": {
        "id": "OpCiDWkexTkf",
        "outputId": "2d86eaa4-9718-4602-9017-0a4949b3aebd",
        "colab": {
          "base_uri": "https://localhost:8080/"
        }
      },
      "source": [
        "X_train, X_train_array, X_train_array[0].shape"
      ],
      "execution_count": 51,
      "outputs": [
        {
          "output_type": "execute_result",
          "data": {
            "text/plain": [
              "(array([[ 180, 1152],\n",
              "        [ 487,  389],\n",
              "        [ 177,  302],\n",
              "        ...,\n",
              "        [ 431, 1588],\n",
              "        [ 232,  399],\n",
              "        [ 138,  612]]),\n",
              " [array([180, 487, 177, ..., 431, 232, 138]),\n",
              "  array([1152,  389,  302, ..., 1588,  399,  612])],\n",
              " (89723,))"
            ]
          },
          "metadata": {},
          "execution_count": 51
        }
      ]
    },
    {
      "cell_type": "markdown",
      "metadata": {
        "id": "fgdqWxK1IDAg"
      },
      "source": [
        "## Normalizing the labels"
      ]
    },
    {
      "cell_type": "code",
      "metadata": {
        "id": "4POYLlXTIP7G"
      },
      "source": [
        "\n",
        "y_train = (y_train - min_rating)/(max_rating - min_rating)\n",
        "y_test = (y_test - min_rating)/(max_rating - min_rating)"
      ],
      "execution_count": 52,
      "outputs": []
    },
    {
      "cell_type": "markdown",
      "metadata": {
        "id": "C_sQMkI-m-i-"
      },
      "source": [
        "## Building a Softmax Deep Neural Network"
      ]
    },
    {
      "cell_type": "code",
      "metadata": {
        "id": "PRBTogiuhpmV",
        "colab": {
          "base_uri": "https://localhost:8080/"
        },
        "outputId": "3c9b21a4-1633-4578-9c2a-512108282a3a"
      },
      "source": [
        "## Initializing a input layer for users\n",
        "user = tf.keras.layers.Input(shape = (1,))\n",
        "\n",
        "## Embedding layer for n_factors of users\n",
        "u = Embedding(n_users, n_factors, embeddings_initializer = 'he_normal', embeddings_regularizer = tf.keras.regularizers.l2(1e-6))(user)\n",
        "u = tf.keras.layers.Reshape((n_factors,))(u)\n",
        "\n",
        "## Initializing a input layer for movies\n",
        "movie = tf.keras.layers.Input(shape = (1,))\n",
        "\n",
        "## Embedding layer for n_factors of movies\n",
        "m = Embedding(n_movies, n_factors, embeddings_initializer = 'he_normal', embeddings_regularizer=tf.keras.regularizers.l2(1e-6))(movie)\n",
        "m = tf.keras.layers.Reshape((n_factors,))(m)\n",
        "\n",
        "## stacking up both user and movie embeddings\n",
        "x = tf.keras.layers.Concatenate()([u,m])\n",
        "x = tf.keras.layers.Dropout(0.05)(x)\n",
        "\n",
        "## Adding a Dense layer to the architecture\n",
        "x = tf.keras.layers.Dense(32, kernel_initializer='he_normal')(x)\n",
        "x = tf.keras.layers.Activation(activation='relu')(x)\n",
        "x = tf.keras.layers.Dropout(0.05)(x)\n",
        "\n",
        "x = tf.keras.layers.Dense(16, kernel_initializer='he_normal')(x)\n",
        "x = tf.keras.layers.Activation(activation='relu')(x)\n",
        "x = tf.keras.layers.Dropout(0.05)(x)\n",
        "\n",
        "## Adding an Output layer with Sigmoid activation funtion which gives output between 0 and 1\n",
        "x = tf.keras.layers.Dense(9)(x)\n",
        "x = tf.keras.layers.Activation(activation='softmax')(x)\n",
        "\n",
        "## Adding a Lambda layer to convert the output to rating by scaling it with the help of available rating information\n",
        "# x = tf.keras.layers.Lambda(lambda x: x*(max_rating - min_rating) + min_rating)(x)\n",
        "\n",
        "## Defining the model\n",
        "model = tf.keras.models.Model(inputs=[user,movie], outputs=x)\n",
        "# optimizer = tf.keras.optimizers.Adam(lr=0.001)\n",
        "# optimizer = tf.keras.optimizers.RMSprop(learning_rate=0.005,\n",
        "    # rho=0.9, momentum=0.01, epsilon=1e-07)\n",
        "\n",
        "## Compiling the model\n",
        "# model.compile(loss='binary_crossentropy', optimizer = optimizer)\n",
        "# model.compile(loss='mean_squared_error', optimizer = optimizer,metrics=['accuracy'])\n",
        "model.compile(optimizer='sgd', loss=tf.keras.losses.SparseCategoricalCrossentropy(), metrics=['accuracy'])\n"
      ],
      "execution_count": 55,
      "outputs": [
        {
          "output_type": "stream",
          "name": "stderr",
          "text": [
            "WARNING:tensorflow:The following Variables were used in a Lambda layer's call (tf.compat.v1.nn.embedding_lookup_1), but are not present in its tracked objects:   <tf.Variable 'embedding_1/embeddings:0' shape=(943, 150) dtype=float32>. This is a strong indication that the Lambda layer should be rewritten as a subclassed Layer.\n",
            "WARNING:tensorflow:The following Variables were used in a Lambda layer's call (tf.compat.v1.nn.embedding_lookup_2), but are not present in its tracked objects:   <tf.Variable 'embedding_2/embeddings:0' shape=(1664, 150) dtype=float32>. This is a strong indication that the Lambda layer should be rewritten as a subclassed Layer.\n"
          ]
        }
      ]
    },
    {
      "cell_type": "code",
      "metadata": {
        "id": "7rMMb03YpJt-",
        "outputId": "e5f99442-1e3e-484b-fef5-c4c381b18f65",
        "colab": {
          "base_uri": "https://localhost:8080/"
        }
      },
      "source": [
        "model.summary()"
      ],
      "execution_count": 56,
      "outputs": [
        {
          "output_type": "stream",
          "name": "stdout",
          "text": [
            "Model: \"model\"\n",
            "__________________________________________________________________________________________________\n",
            " Layer (type)                   Output Shape         Param #     Connected to                     \n",
            "==================================================================================================\n",
            " input_5 (InputLayer)           [(None, 1)]          0           []                               \n",
            "                                                                                                  \n",
            " input_6 (InputLayer)           [(None, 1)]          0           []                               \n",
            "                                                                                                  \n",
            " tf.cast_1 (TFOpLambda)         (None, 1)            0           ['input_5[0][0]']                \n",
            "                                                                                                  \n",
            " tf.cast_2 (TFOpLambda)         (None, 1)            0           ['input_6[0][0]']                \n",
            "                                                                                                  \n",
            " tf.compat.v1.nn.embedding_look  (None, 1, 150)      0           ['tf.cast_1[0][0]']              \n",
            " up_1 (TFOpLambda)                                                                                \n",
            "                                                                                                  \n",
            " tf.compat.v1.nn.embedding_look  (None, 1, 150)      0           ['tf.cast_2[0][0]']              \n",
            " up_2 (TFOpLambda)                                                                                \n",
            "                                                                                                  \n",
            " reshape_1 (Reshape)            (None, 150)          0           ['tf.compat.v1.nn.embedding_looku\n",
            "                                                                 p_1[0][0]']                      \n",
            "                                                                                                  \n",
            " reshape_2 (Reshape)            (None, 150)          0           ['tf.compat.v1.nn.embedding_looku\n",
            "                                                                 p_2[0][0]']                      \n",
            "                                                                                                  \n",
            " concatenate (Concatenate)      (None, 300)          0           ['reshape_1[0][0]',              \n",
            "                                                                  'reshape_2[0][0]']              \n",
            "                                                                                                  \n",
            " dropout (Dropout)              (None, 300)          0           ['concatenate[0][0]']            \n",
            "                                                                                                  \n",
            " dense (Dense)                  (None, 32)           9632        ['dropout[0][0]']                \n",
            "                                                                                                  \n",
            " activation (Activation)        (None, 32)           0           ['dense[0][0]']                  \n",
            "                                                                                                  \n",
            " dropout_1 (Dropout)            (None, 32)           0           ['activation[0][0]']             \n",
            "                                                                                                  \n",
            " dense_1 (Dense)                (None, 16)           528         ['dropout_1[0][0]']              \n",
            "                                                                                                  \n",
            " activation_1 (Activation)      (None, 16)           0           ['dense_1[0][0]']                \n",
            "                                                                                                  \n",
            " dropout_2 (Dropout)            (None, 16)           0           ['activation_1[0][0]']           \n",
            "                                                                                                  \n",
            " dense_2 (Dense)                (None, 9)            153         ['dropout_2[0][0]']              \n",
            "                                                                                                  \n",
            " activation_2 (Activation)      (None, 9)            0           ['dense_2[0][0]']                \n",
            "                                                                                                  \n",
            "==================================================================================================\n",
            "Total params: 10,313\n",
            "Trainable params: 10,313\n",
            "Non-trainable params: 0\n",
            "__________________________________________________________________________________________________\n"
          ]
        }
      ]
    },
    {
      "cell_type": "code",
      "metadata": {
        "id": "Ky7cKIGDuSgy",
        "outputId": "a8c62fe3-e965-421b-c9f7-52e784f8a695",
        "colab": {
          "base_uri": "https://localhost:8080/"
        }
      },
      "source": [
        "reduce_lr = tf.keras.callbacks.ReduceLROnPlateau(monitor='val_loss', factor=0.75, patience=3, min_lr=0.000001, verbose=1)\n",
        "\n",
        "history = model.fit(x = X_train_array, y = y_train, batch_size=128, epochs=70, verbose=1, validation_data=(X_test_array, y_test)\n",
        ",shuffle=True,callbacks=[reduce_lr])\n"
      ],
      "execution_count": 57,
      "outputs": [
        {
          "output_type": "stream",
          "name": "stdout",
          "text": [
            "Epoch 1/70\n",
            "701/701 [==============================] - 4s 4ms/step - loss: 0.8830 - accuracy: 0.0603 - val_loss: 0.5369 - val_accuracy: 0.0617 - lr: 0.0100\n",
            "Epoch 2/70\n",
            "701/701 [==============================] - 3s 4ms/step - loss: 0.5403 - accuracy: 0.0610 - val_loss: 0.5173 - val_accuracy: 0.0617 - lr: 0.0100\n",
            "Epoch 3/70\n",
            "701/701 [==============================] - 2s 3ms/step - loss: 0.5298 - accuracy: 0.0609 - val_loss: 0.5131 - val_accuracy: 0.0617 - lr: 0.0100\n",
            "Epoch 4/70\n",
            "701/701 [==============================] - 2s 3ms/step - loss: 0.5257 - accuracy: 0.0609 - val_loss: 0.5130 - val_accuracy: 0.0617 - lr: 0.0100\n",
            "Epoch 5/70\n",
            "701/701 [==============================] - 2s 3ms/step - loss: 0.5242 - accuracy: 0.0609 - val_loss: 0.5113 - val_accuracy: 0.0617 - lr: 0.0100\n",
            "Epoch 6/70\n",
            "701/701 [==============================] - 3s 4ms/step - loss: 0.5223 - accuracy: 0.0609 - val_loss: 0.5117 - val_accuracy: 0.0617 - lr: 0.0100\n",
            "Epoch 7/70\n",
            "701/701 [==============================] - 3s 4ms/step - loss: 0.5217 - accuracy: 0.0609 - val_loss: 0.5111 - val_accuracy: 0.0617 - lr: 0.0100\n",
            "Epoch 8/70\n",
            "701/701 [==============================] - 2s 4ms/step - loss: 0.5211 - accuracy: 0.0609 - val_loss: 0.5106 - val_accuracy: 0.0617 - lr: 0.0100\n",
            "Epoch 9/70\n",
            "701/701 [==============================] - 2s 4ms/step - loss: 0.5201 - accuracy: 0.0609 - val_loss: 0.5116 - val_accuracy: 0.0617 - lr: 0.0100\n",
            "Epoch 10/70\n",
            "701/701 [==============================] - 3s 4ms/step - loss: 0.5199 - accuracy: 0.0609 - val_loss: 0.5108 - val_accuracy: 0.0617 - lr: 0.0100\n",
            "Epoch 11/70\n",
            "701/701 [==============================] - 3s 5ms/step - loss: 0.5199 - accuracy: 0.0609 - val_loss: 0.5101 - val_accuracy: 0.0617 - lr: 0.0100\n",
            "Epoch 12/70\n",
            "701/701 [==============================] - 3s 4ms/step - loss: 0.5195 - accuracy: 0.0609 - val_loss: 0.5116 - val_accuracy: 0.0617 - lr: 0.0100\n",
            "Epoch 13/70\n",
            "701/701 [==============================] - 2s 3ms/step - loss: 0.5192 - accuracy: 0.0609 - val_loss: 0.5104 - val_accuracy: 0.0617 - lr: 0.0100\n",
            "Epoch 14/70\n",
            "692/701 [============================>.] - ETA: 0s - loss: 0.5186 - accuracy: 0.0609\n",
            "Epoch 14: ReduceLROnPlateau reducing learning rate to 0.007499999832361937.\n",
            "701/701 [==============================] - 2s 4ms/step - loss: 0.5190 - accuracy: 0.0609 - val_loss: 0.5109 - val_accuracy: 0.0617 - lr: 0.0100\n",
            "Epoch 15/70\n",
            "701/701 [==============================] - 2s 3ms/step - loss: 0.5190 - accuracy: 0.0609 - val_loss: 0.5100 - val_accuracy: 0.0617 - lr: 0.0075\n",
            "Epoch 16/70\n",
            "701/701 [==============================] - 5s 7ms/step - loss: 0.5186 - accuracy: 0.0609 - val_loss: 0.5100 - val_accuracy: 0.0617 - lr: 0.0075\n",
            "Epoch 17/70\n",
            "701/701 [==============================] - 4s 5ms/step - loss: 0.5186 - accuracy: 0.0609 - val_loss: 0.5099 - val_accuracy: 0.0617 - lr: 0.0075\n",
            "Epoch 18/70\n",
            "701/701 [==============================] - 5s 7ms/step - loss: 0.5188 - accuracy: 0.0609 - val_loss: 0.5100 - val_accuracy: 0.0617 - lr: 0.0075\n",
            "Epoch 19/70\n",
            "701/701 [==============================] - 6s 8ms/step - loss: 0.5183 - accuracy: 0.0609 - val_loss: 0.5098 - val_accuracy: 0.0617 - lr: 0.0075\n",
            "Epoch 20/70\n",
            "701/701 [==============================] - 3s 4ms/step - loss: 0.5184 - accuracy: 0.0609 - val_loss: 0.5104 - val_accuracy: 0.0617 - lr: 0.0075\n",
            "Epoch 21/70\n",
            "701/701 [==============================] - 3s 4ms/step - loss: 0.5183 - accuracy: 0.0609 - val_loss: 0.5103 - val_accuracy: 0.0617 - lr: 0.0075\n",
            "Epoch 22/70\n",
            "692/701 [============================>.] - ETA: 0s - loss: 0.5184 - accuracy: 0.0610\n",
            "Epoch 22: ReduceLROnPlateau reducing learning rate to 0.005624999874271452.\n",
            "701/701 [==============================] - 2s 3ms/step - loss: 0.5183 - accuracy: 0.0609 - val_loss: 0.5098 - val_accuracy: 0.0617 - lr: 0.0075\n",
            "Epoch 23/70\n",
            "701/701 [==============================] - 3s 4ms/step - loss: 0.5181 - accuracy: 0.0609 - val_loss: 0.5098 - val_accuracy: 0.0617 - lr: 0.0056\n",
            "Epoch 24/70\n",
            "701/701 [==============================] - 3s 4ms/step - loss: 0.5181 - accuracy: 0.0609 - val_loss: 0.5098 - val_accuracy: 0.0617 - lr: 0.0056\n",
            "Epoch 25/70\n",
            "694/701 [============================>.] - ETA: 0s - loss: 0.5182 - accuracy: 0.0611\n",
            "Epoch 25: ReduceLROnPlateau reducing learning rate to 0.004218749818392098.\n",
            "701/701 [==============================] - 2s 3ms/step - loss: 0.5182 - accuracy: 0.0609 - val_loss: 0.5098 - val_accuracy: 0.0617 - lr: 0.0056\n",
            "Epoch 26/70\n",
            "701/701 [==============================] - 2s 3ms/step - loss: 0.5178 - accuracy: 0.0609 - val_loss: 0.5100 - val_accuracy: 0.0617 - lr: 0.0042\n",
            "Epoch 27/70\n",
            "701/701 [==============================] - 2s 3ms/step - loss: 0.5180 - accuracy: 0.0609 - val_loss: 0.5100 - val_accuracy: 0.0617 - lr: 0.0042\n",
            "Epoch 28/70\n",
            "699/701 [============================>.] - ETA: 0s - loss: 0.5178 - accuracy: 0.0610\n",
            "Epoch 28: ReduceLROnPlateau reducing learning rate to 0.003164062276482582.\n",
            "701/701 [==============================] - 3s 4ms/step - loss: 0.5179 - accuracy: 0.0609 - val_loss: 0.5099 - val_accuracy: 0.0617 - lr: 0.0042\n",
            "Epoch 29/70\n",
            "701/701 [==============================] - 4s 5ms/step - loss: 0.5178 - accuracy: 0.0609 - val_loss: 0.5097 - val_accuracy: 0.0617 - lr: 0.0032\n",
            "Epoch 30/70\n",
            "701/701 [==============================] - 3s 5ms/step - loss: 0.5180 - accuracy: 0.0609 - val_loss: 0.5099 - val_accuracy: 0.0617 - lr: 0.0032\n",
            "Epoch 31/70\n",
            "701/701 [==============================] - 2s 3ms/step - loss: 0.5178 - accuracy: 0.0609 - val_loss: 0.5099 - val_accuracy: 0.0617 - lr: 0.0032\n",
            "Epoch 32/70\n",
            "693/701 [============================>.] - ETA: 0s - loss: 0.5173 - accuracy: 0.0609\n",
            "Epoch 32: ReduceLROnPlateau reducing learning rate to 0.0023730467073619366.\n",
            "701/701 [==============================] - 2s 3ms/step - loss: 0.5179 - accuracy: 0.0609 - val_loss: 0.5104 - val_accuracy: 0.0617 - lr: 0.0032\n",
            "Epoch 33/70\n",
            "701/701 [==============================] - 3s 5ms/step - loss: 0.5179 - accuracy: 0.0609 - val_loss: 0.5098 - val_accuracy: 0.0617 - lr: 0.0024\n",
            "Epoch 34/70\n",
            "701/701 [==============================] - 2s 4ms/step - loss: 0.5179 - accuracy: 0.0609 - val_loss: 0.5099 - val_accuracy: 0.0617 - lr: 0.0024\n",
            "Epoch 35/70\n",
            "696/701 [============================>.] - ETA: 0s - loss: 0.5179 - accuracy: 0.0609\n",
            "Epoch 35: ReduceLROnPlateau reducing learning rate to 0.0017797850305214524.\n",
            "701/701 [==============================] - 3s 4ms/step - loss: 0.5179 - accuracy: 0.0609 - val_loss: 0.5099 - val_accuracy: 0.0617 - lr: 0.0024\n",
            "Epoch 36/70\n",
            "701/701 [==============================] - 3s 4ms/step - loss: 0.5179 - accuracy: 0.0609 - val_loss: 0.5101 - val_accuracy: 0.0617 - lr: 0.0018\n",
            "Epoch 37/70\n",
            "701/701 [==============================] - 3s 4ms/step - loss: 0.5178 - accuracy: 0.0609 - val_loss: 0.5102 - val_accuracy: 0.0617 - lr: 0.0018\n",
            "Epoch 38/70\n",
            "688/701 [============================>.] - ETA: 0s - loss: 0.5174 - accuracy: 0.0608\n",
            "Epoch 38: ReduceLROnPlateau reducing learning rate to 0.0013348387728910893.\n",
            "701/701 [==============================] - 3s 5ms/step - loss: 0.5178 - accuracy: 0.0609 - val_loss: 0.5100 - val_accuracy: 0.0617 - lr: 0.0018\n",
            "Epoch 39/70\n",
            "701/701 [==============================] - 2s 3ms/step - loss: 0.5179 - accuracy: 0.0609 - val_loss: 0.5098 - val_accuracy: 0.0617 - lr: 0.0013\n",
            "Epoch 40/70\n",
            "701/701 [==============================] - 3s 4ms/step - loss: 0.5178 - accuracy: 0.0609 - val_loss: 0.5097 - val_accuracy: 0.0617 - lr: 0.0013\n",
            "Epoch 41/70\n",
            "697/701 [============================>.] - ETA: 0s - loss: 0.5176 - accuracy: 0.0608\n",
            "Epoch 41: ReduceLROnPlateau reducing learning rate to 0.0010011291014961898.\n",
            "701/701 [==============================] - 2s 3ms/step - loss: 0.5177 - accuracy: 0.0609 - val_loss: 0.5101 - val_accuracy: 0.0617 - lr: 0.0013\n",
            "Epoch 42/70\n",
            "701/701 [==============================] - 3s 4ms/step - loss: 0.5178 - accuracy: 0.0609 - val_loss: 0.5100 - val_accuracy: 0.0617 - lr: 0.0010\n",
            "Epoch 43/70\n",
            "701/701 [==============================] - 3s 4ms/step - loss: 0.5177 - accuracy: 0.0609 - val_loss: 0.5099 - val_accuracy: 0.0617 - lr: 0.0010\n",
            "Epoch 44/70\n",
            "688/701 [============================>.] - ETA: 0s - loss: 0.5176 - accuracy: 0.0608\n",
            "Epoch 44: ReduceLROnPlateau reducing learning rate to 0.0007508468697778881.\n",
            "701/701 [==============================] - 2s 3ms/step - loss: 0.5177 - accuracy: 0.0609 - val_loss: 0.5099 - val_accuracy: 0.0617 - lr: 0.0010\n",
            "Epoch 45/70\n",
            "701/701 [==============================] - 3s 4ms/step - loss: 0.5177 - accuracy: 0.0609 - val_loss: 0.5098 - val_accuracy: 0.0617 - lr: 7.5085e-04\n",
            "Epoch 46/70\n",
            "701/701 [==============================] - 2s 3ms/step - loss: 0.5178 - accuracy: 0.0609 - val_loss: 0.5097 - val_accuracy: 0.0617 - lr: 7.5085e-04\n",
            "Epoch 47/70\n",
            "694/701 [============================>.] - ETA: 0s - loss: 0.5178 - accuracy: 0.0611\n",
            "Epoch 47: ReduceLROnPlateau reducing learning rate to 0.000563135152333416.\n",
            "701/701 [==============================] - 3s 4ms/step - loss: 0.5178 - accuracy: 0.0609 - val_loss: 0.5099 - val_accuracy: 0.0617 - lr: 7.5085e-04\n",
            "Epoch 48/70\n",
            "701/701 [==============================] - 3s 5ms/step - loss: 0.5177 - accuracy: 0.0609 - val_loss: 0.5099 - val_accuracy: 0.0617 - lr: 5.6314e-04\n",
            "Epoch 49/70\n",
            "701/701 [==============================] - 3s 4ms/step - loss: 0.5177 - accuracy: 0.0609 - val_loss: 0.5098 - val_accuracy: 0.0617 - lr: 5.6314e-04\n",
            "Epoch 50/70\n",
            "694/701 [============================>.] - ETA: 0s - loss: 0.5175 - accuracy: 0.0609\n",
            "Epoch 50: ReduceLROnPlateau reducing learning rate to 0.0004223513533361256.\n",
            "701/701 [==============================] - 3s 4ms/step - loss: 0.5177 - accuracy: 0.0609 - val_loss: 0.5099 - val_accuracy: 0.0617 - lr: 5.6314e-04\n",
            "Epoch 51/70\n",
            "701/701 [==============================] - 3s 4ms/step - loss: 0.5178 - accuracy: 0.0609 - val_loss: 0.5098 - val_accuracy: 0.0617 - lr: 4.2235e-04\n",
            "Epoch 52/70\n",
            "701/701 [==============================] - 3s 5ms/step - loss: 0.5176 - accuracy: 0.0609 - val_loss: 0.5098 - val_accuracy: 0.0617 - lr: 4.2235e-04\n",
            "Epoch 53/70\n",
            "693/701 [============================>.] - ETA: 0s - loss: 0.5177 - accuracy: 0.0610\n",
            "Epoch 53: ReduceLROnPlateau reducing learning rate to 0.0003167635150020942.\n",
            "701/701 [==============================] - 3s 4ms/step - loss: 0.5178 - accuracy: 0.0609 - val_loss: 0.5098 - val_accuracy: 0.0617 - lr: 4.2235e-04\n",
            "Epoch 54/70\n",
            "701/701 [==============================] - 3s 4ms/step - loss: 0.5177 - accuracy: 0.0609 - val_loss: 0.5098 - val_accuracy: 0.0617 - lr: 3.1676e-04\n",
            "Epoch 55/70\n",
            "701/701 [==============================] - 2s 3ms/step - loss: 0.5176 - accuracy: 0.0609 - val_loss: 0.5098 - val_accuracy: 0.0617 - lr: 3.1676e-04\n",
            "Epoch 56/70\n",
            "700/701 [============================>.] - ETA: 0s - loss: 0.5178 - accuracy: 0.0610\n",
            "Epoch 56: ReduceLROnPlateau reducing learning rate to 0.00023757264716550708.\n",
            "701/701 [==============================] - 3s 4ms/step - loss: 0.5178 - accuracy: 0.0609 - val_loss: 0.5098 - val_accuracy: 0.0617 - lr: 3.1676e-04\n",
            "Epoch 57/70\n",
            "701/701 [==============================] - 4s 5ms/step - loss: 0.5177 - accuracy: 0.0609 - val_loss: 0.5098 - val_accuracy: 0.0617 - lr: 2.3757e-04\n",
            "Epoch 58/70\n",
            "701/701 [==============================] - 3s 4ms/step - loss: 0.5177 - accuracy: 0.0609 - val_loss: 0.5098 - val_accuracy: 0.0617 - lr: 2.3757e-04\n",
            "Epoch 59/70\n",
            "697/701 [============================>.] - ETA: 0s - loss: 0.5175 - accuracy: 0.0611\n",
            "Epoch 59: ReduceLROnPlateau reducing learning rate to 0.0001781794853741303.\n",
            "701/701 [==============================] - 2s 3ms/step - loss: 0.5176 - accuracy: 0.0609 - val_loss: 0.5099 - val_accuracy: 0.0617 - lr: 2.3757e-04\n",
            "Epoch 60/70\n",
            "701/701 [==============================] - 3s 4ms/step - loss: 0.5176 - accuracy: 0.0609 - val_loss: 0.5098 - val_accuracy: 0.0617 - lr: 1.7818e-04\n",
            "Epoch 61/70\n",
            "701/701 [==============================] - 3s 4ms/step - loss: 0.5177 - accuracy: 0.0609 - val_loss: 0.5098 - val_accuracy: 0.0617 - lr: 1.7818e-04\n",
            "Epoch 62/70\n",
            "691/701 [============================>.] - ETA: 0s - loss: 0.5173 - accuracy: 0.0611\n",
            "Epoch 62: ReduceLROnPlateau reducing learning rate to 0.00013363461403059773.\n",
            "701/701 [==============================] - 3s 5ms/step - loss: 0.5175 - accuracy: 0.0609 - val_loss: 0.5098 - val_accuracy: 0.0617 - lr: 1.7818e-04\n",
            "Epoch 63/70\n",
            "701/701 [==============================] - 3s 4ms/step - loss: 0.5177 - accuracy: 0.0609 - val_loss: 0.5098 - val_accuracy: 0.0617 - lr: 1.3363e-04\n",
            "Epoch 64/70\n",
            "701/701 [==============================] - 2s 4ms/step - loss: 0.5177 - accuracy: 0.0609 - val_loss: 0.5098 - val_accuracy: 0.0617 - lr: 1.3363e-04\n",
            "Epoch 65/70\n",
            "696/701 [============================>.] - ETA: 0s - loss: 0.5181 - accuracy: 0.0609\n",
            "Epoch 65: ReduceLROnPlateau reducing learning rate to 0.0001002259632514324.\n",
            "701/701 [==============================] - 3s 4ms/step - loss: 0.5176 - accuracy: 0.0609 - val_loss: 0.5098 - val_accuracy: 0.0617 - lr: 1.3363e-04\n",
            "Epoch 66/70\n",
            "701/701 [==============================] - 3s 4ms/step - loss: 0.5176 - accuracy: 0.0609 - val_loss: 0.5098 - val_accuracy: 0.0617 - lr: 1.0023e-04\n",
            "Epoch 67/70\n",
            "701/701 [==============================] - 3s 4ms/step - loss: 0.5176 - accuracy: 0.0609 - val_loss: 0.5098 - val_accuracy: 0.0617 - lr: 1.0023e-04\n",
            "Epoch 68/70\n",
            "699/701 [============================>.] - ETA: 0s - loss: 0.5178 - accuracy: 0.0610\n",
            "Epoch 68: ReduceLROnPlateau reducing learning rate to 7.516947516705841e-05.\n",
            "701/701 [==============================] - 3s 5ms/step - loss: 0.5177 - accuracy: 0.0609 - val_loss: 0.5098 - val_accuracy: 0.0617 - lr: 1.0023e-04\n",
            "Epoch 69/70\n",
            "701/701 [==============================] - 3s 4ms/step - loss: 0.5177 - accuracy: 0.0609 - val_loss: 0.5098 - val_accuracy: 0.0617 - lr: 7.5169e-05\n",
            "Epoch 70/70\n",
            "701/701 [==============================] - 3s 4ms/step - loss: 0.5177 - accuracy: 0.0609 - val_loss: 0.5098 - val_accuracy: 0.0617 - lr: 7.5169e-05\n"
          ]
        }
      ]
    },
    {
      "cell_type": "code",
      "metadata": {
        "id": "Ia_EsnKTur47",
        "outputId": "dc9415f2-5f80-45bc-a315-c8c978a0fae6",
        "colab": {
          "base_uri": "https://localhost:8080/",
          "height": 472
        }
      },
      "source": [
        "plt.plot(history.history[\"loss\"][5:])\n",
        "plt.plot(history.history[\"val_loss\"][5:])\n",
        "plt.title(\"model loss\")\n",
        "plt.ylabel(\"loss\")\n",
        "plt.xlabel(\"epoch\")\n",
        "plt.legend([\"train\", \"test\"], loc=\"upper left\")\n",
        "plt.show()"
      ],
      "execution_count": 58,
      "outputs": [
        {
          "output_type": "display_data",
          "data": {
            "text/plain": [
              "<Figure size 640x480 with 1 Axes>"
            ],
            "image/png": "[encoded data removed]"
          },
          "metadata": {}
        }
      ]
    },
    {
      "cell_type": "markdown",
      "metadata": {
        "id": "2VpBSnCPILno"
      },
      "source": [
        "## Getting movies for given User"
      ]
    },
    {
      "cell_type": "code",
      "metadata": {
        "id": "qRgSHldIJMLu",
        "outputId": "efa2d38c-01f4-42a8-e5a6-d62c6b9afbff",
        "colab": {
          "base_uri": "https://localhost:8080/",
          "height": 206
        }
      },
      "source": [
        "refined_dataset.head()"
      ],
      "execution_count": 59,
      "outputs": [
        {
          "output_type": "execute_result",
          "data": {
            "text/plain": [
              "   user id                          movie title  rating  user  movie\n",
              "0        1                101 Dalmatians (1996)     2.0     0      2\n",
              "1        1                  12 Angry Men (1957)     5.0     0      3\n",
              "2        1  20,000 Leagues Under the Sea (1954)     3.0     0      6\n",
              "3        1         2001: A Space Odyssey (1968)     4.0     0      7\n",
              "4        1                    Abyss, The (1989)     3.0     0     16"
            ],
            "text/html": [
              "\n",
              "  <div id=\"df-f004bd1d-4325-422e-857b-f807ff7fdd09\">\n",
              "    <div class=\"colab-df-container\">\n",
              "      <div>\n",
              "<style scoped>\n",
              "    .dataframe tbody tr th:only-of-type {\n",
              "        vertical-align: middle;\n",
              "    }\n",
              "\n",
              "    .dataframe tbody tr th {\n",
              "        vertical-align: top;\n",
              "    }\n",
              "\n",
              "    .dataframe thead th {\n",
              "        text-align: right;\n",
              "    }\n",
              "</style>\n",
              "<table border=\"1\" class=\"dataframe\">\n",
              "  <thead>\n",
              "    <tr style=\"text-align: right;\">\n",
              "      <th></th>\n",
              "      <th>user id</th>\n",
              "      <th>movie title</th>\n",
              "      <th>rating</th>\n",
              "      <th>user</th>\n",
              "      <th>movie</th>\n",
              "    </tr>\n",
              "  </thead>\n",
              "  <tbody>\n",
              "    <tr>\n",
              "      <th>0</th>\n",
              "      <td>1</td>\n",
              "      <td>101 Dalmatians (1996)</td>\n",
              "      <td>2.0</td>\n",
              "      <td>0</td>\n",
              "      <td>2</td>\n",
              "    </tr>\n",
              "    <tr>\n",
              "      <th>1</th>\n",
              "      <td>1</td>\n",
              "      <td>12 Angry Men (1957)</td>\n",
              "      <td>5.0</td>\n",
              "      <td>0</td>\n",
              "      <td>3</td>\n",
              "    </tr>\n",
              "    <tr>\n",
              "      <th>2</th>\n",
              "      <td>1</td>\n",
              "      <td>20,000 Leagues Under the Sea (1954)</td>\n",
              "      <td>3.0</td>\n",
              "      <td>0</td>\n",
              "      <td>6</td>\n",
              "    </tr>\n",
              "    <tr>\n",
              "      <th>3</th>\n",
              "      <td>1</td>\n",
              "      <td>2001: A Space Odyssey (1968)</td>\n",
              "      <td>4.0</td>\n",
              "      <td>0</td>\n",
              "      <td>7</td>\n",
              "    </tr>\n",
              "    <tr>\n",
              "      <th>4</th>\n",
              "      <td>1</td>\n",
              "      <td>Abyss, The (1989)</td>\n",
              "      <td>3.0</td>\n",
              "      <td>0</td>\n",
              "      <td>16</td>\n",
              "    </tr>\n",
              "  </tbody>\n",
              "</table>\n",
              "</div>\n",
              "      <button class=\"colab-df-convert\" onclick=\"convertToInteractive('df-f004bd1d-4325-422e-857b-f807ff7fdd09')\"\n",
              "              title=\"Convert this dataframe to an interactive table.\"\n",
              "              style=\"display:none;\">\n",
              "        \n",
              "  <svg xmlns=\"http://www.w3.org/2000/svg\" height=\"24px\"viewBox=\"0 0 24 24\"\n",
              "       width=\"24px\">\n",
              "    <path d=\"M0 0h24v24H0V0z\" fill=\"none\"/>\n",
              "    <path d=\"M18.56 5.44l.94 2.06.94-2.06 2.06-.94-2.06-.94-.94-2.06-.94 2.06-2.06.94zm-11 1L8.5 8.5l.94-2.06 2.06-.94-2.06-.94L8.5 2.5l-.94 2.06-2.06.94zm10 10l.94 2.06.94-2.06 2.06-.94-2.06-.94-.94-2.06-.94 2.06-2.06.94z\"/><path d=\"M17.41 7.96l-1.37-1.37c-.4-.4-.92-.59-1.43-.59-.52 0-1.04.2-1.43.59L10.3 9.45l-7.72 7.72c-.78.78-.78 2.05 0 2.83L4 21.41c.39.39.9.59 1.41.59.51 0 1.02-.2 1.41-.59l7.78-7.78 2.81-2.81c.8-.78.8-2.07 0-2.86zM5.41 20L4 18.59l7.72-7.72 1.47 1.35L5.41 20z\"/>\n",
              "  </svg>\n",
              "      </button>\n",
              "      \n",
              "  <style>\n",
              "    .colab-df-container {\n",
              "      display:flex;\n",
              "      flex-wrap:wrap;\n",
              "      gap: 12px;\n",
              "    }\n",
              "\n",
              "    .colab-df-convert {\n",
              "      background-color: #E8F0FE;\n",
              "      border: none;\n",
              "      border-radius: 50%;\n",
              "      cursor: pointer;\n",
              "      display: none;\n",
              "      fill: #1967D2;\n",
              "      height: 32px;\n",
              "      padding: 0 0 0 0;\n",
              "      width: 32px;\n",
              "    }\n",
              "\n",
              "    .colab-df-convert:hover {\n",
              "      background-color: #E2EBFA;\n",
              "      box-shadow: 0px 1px 2px rgba(60, 64, 67, 0.3), 0px 1px 3px 1px rgba(60, 64, 67, 0.15);\n",
              "      fill: #174EA6;\n",
              "    }\n",
              "\n",
              "    [theme=dark] .colab-df-convert {\n",
              "      background-color: #3B4455;\n",
              "      fill: #D2E3FC;\n",
              "    }\n",
              "\n",
              "    [theme=dark] .colab-df-convert:hover {\n",
              "      background-color: #434B5C;\n",
              "      box-shadow: 0px 1px 3px 1px rgba(0, 0, 0, 0.15);\n",
              "      filter: drop-shadow(0px 1px 2px rgba(0, 0, 0, 0.3));\n",
              "      fill: #FFFFFF;\n",
              "    }\n",
              "  </style>\n",
              "\n",
              "      <script>\n",
              "        const buttonEl =\n",
              "          document.querySelector('#df-f004bd1d-4325-422e-857b-f807ff7fdd09 button.colab-df-convert');\n",
              "        buttonEl.style.display =\n",
              "          google.colab.kernel.accessAllowed ? 'block' : 'none';\n",
              "\n",
              "        async function convertToInteractive(key) {\n",
              "          const element = document.querySelector('#df-f004bd1d-4325-422e-857b-f807ff7fdd09');\n",
              "          const dataTable =\n",
              "            await google.colab.kernel.invokeFunction('convertToInteractive',\n",
              "                                                     [key], {});\n",
              "          if (!dataTable) return;\n",
              "\n",
              "          const docLinkHtml = 'Like what you see? Visit the ' +\n",
              "            '<a target=\"_blank\" href=https://colab.research.google.com/notebooks/data_table.ipynb>data table notebook</a>'\n",
              "            + ' to learn more about interactive tables.';\n",
              "          element.innerHTML = '';\n",
              "          dataTable['output_type'] = 'display_data';\n",
              "          await google.colab.output.renderOutput(dataTable, element);\n",
              "          const docLink = document.createElement('div');\n",
              "          docLink.innerHTML = docLinkHtml;\n",
              "          element.appendChild(docLink);\n",
              "        }\n",
              "      </script>\n",
              "    </div>\n",
              "  </div>\n",
              "  "
            ]
          },
          "metadata": {},
          "execution_count": 59
        }
      ]
    },
    {
      "cell_type": "markdown",
      "metadata": {
        "id": "Xdmw3s6eJjSz"
      },
      "source": [
        "**How this DNN model works is, it takes two inputs, one of the input has user id's and the other has corresponding movie id's. Here DNN model tries to predict the ratings of the user - movie combination. So, we can input a specific user id (broadcasting it with the size of other input) and unseen movie id of the user and expect the model to give the ratings of the movies which would have been the ratings given by the user. Here, the ratings are already normalized and as we need the movies which interest the user more, ratings are not brought back to 0-5 scale.**"
      ]
    },
    {
      "cell_type": "code",
      "metadata": {
        "id": "A9pFADxRM-SX",
        "outputId": "37a32cda-3370-4737-f5c6-b7805f38d0e2",
        "colab": {
          "base_uri": "https://localhost:8080/"
        }
      },
      "source": [
        "X_train_array"
      ],
      "execution_count": 60,
      "outputs": [
        {
          "output_type": "execute_result",
          "data": {
            "text/plain": [
              "[array([180, 487, 177, ..., 431, 232, 138]),\n",
              " array([1152,  389,  302, ..., 1588,  399,  612])]"
            ]
          },
          "metadata": {},
          "execution_count": 60
        }
      ]
    },
    {
      "cell_type": "markdown",
      "metadata": {
        "id": "_5Orqr2yatoT"
      },
      "source": [
        "Above is the model input shape"
      ]
    },
    {
      "cell_type": "code",
      "metadata": {
        "id": "bKuwDF7pxEgA",
        "outputId": "630922b4-923d-4adc-eda4-236245120f11",
        "colab": {
          "base_uri": "https://localhost:8080/"
        }
      },
      "source": [
        "\n",
        "user_id = [777]\n",
        "encoded_user_id = user_enc.transform(user_id)\n",
        "\n",
        "seen_movies = list(refined_dataset[refined_dataset['user id'] == user_id[0]]['movie'])\n",
        "print(seen_movies)"
      ],
      "execution_count": 61,
      "outputs": [
        {
          "output_type": "stream",
          "name": "stdout",
          "text": [
            "[7, 55, 87, 113, 313, 337, 389, 390, 399, 411, 432, 460, 498, 528, 580, 604, 612, 643, 666, 783, 996, 1005, 1032, 1102, 1132, 1157, 1190, 1208, 1251, 1260, 1284, 1302, 1342, 1523, 1558, 1615]\n"
          ]
        }
      ]
    },
    {
      "cell_type": "markdown",
      "metadata": {
        "id": "_qMqFifba4Yj"
      },
      "source": [
        "Id's of movies which are already seen by the user are extracted."
      ]
    },
    {
      "cell_type": "code",
      "metadata": {
        "id": "IjXFgDR4NTkO",
        "outputId": "466ff1e8-a5f7-4db1-dbc7-ebe7a3dea43c",
        "colab": {
          "base_uri": "https://localhost:8080/"
        }
      },
      "source": [
        "len(refined_dataset['movie'].unique()), min(refined_dataset['movie']), max(refined_dataset['movie'])"
      ],
      "execution_count": 62,
      "outputs": [
        {
          "output_type": "execute_result",
          "data": {
            "text/plain": [
              "(1664, 0, 1663)"
            ]
          },
          "metadata": {},
          "execution_count": 62
        }
      ]
    },
    {
      "cell_type": "markdown",
      "metadata": {
        "id": "Np6LcHMwYTD-"
      },
      "source": [
        "We can understand that the labels are from 0 to 1663. So the movie id's which are not seen by the user can be pciked just by excluding the 'seen_movies' list from the first 1663 natural numbers."
      ]
    },
    {
      "cell_type": "code",
      "metadata": {
        "id": "i_rRA2ScWFLF",
        "outputId": "c19f1aac-5ca6-405b-8a21-03363026fa37",
        "colab": {
          "base_uri": "https://localhost:8080/"
        }
      },
      "source": [
        "unseen_movies = [i for i in range(min(refined_dataset['movie']), max(refined_dataset['movie'])+1) if i not in seen_movies]\n",
        "print(unseen_movies)"
      ],
      "execution_count": 63,
      "outputs": [
        {
          "output_type": "stream",
          "name": "stdout",
          "text": [
            "[0, 1, 2, 3, 4, 5, 6, 8, 9, 10, 11, 12, 13, 14, 15, 16, 17, 18, 19, 20, 21, 22, 23, 24, 25, 26, 27, 28, 29, 30, 31, 32, 33, 34, 35, 36, 37, 38, 39, 40, 41, 42, 43, 44, 45, 46, 47, 48, 49, 50, 51, 52, 53, 54, 56, 57, 58, 59, 60, 61, 62, 63, 64, 65, 66, 67, 68, 69, 70, 71, 72, 73, 74, 75, 76, 77, 78, 79, 80, 81, 82, 83, 84, 85, 86, 88, 89, 90, 91, 92, 93, 94, 95, 96, 97, 98, 99, 100, 101, 102, 103, 104, 105, 106, 107, 108, 109, 110, 111, 112, 114, 115, 116, 117, 118, 119, 120, 121, 122, 123, 124, 125, 126, 127, 128, 129, 130, 131, 132, 133, 134, 135, 136, 137, 138, 139, 140, 141, 142, 143, 144, 145, 146, 147, 148, 149, 150, 151, 152, 153, 154, 155, 156, 157, 158, 159, 160, 161, 162, 163, 164, 165, 166, 167, 168, 169, 170, 171, 172, 173, 174, 175, 176, 177, 178, 179, 180, 181, 182, 183, 184, 185, 186, 187, 188, 189, 190, 191, 192, 193, 194, 195, 196, 197, 198, 199, 200, 201, 202, 203, 204, 205, 206, 207, 208, 209, 210, 211, 212, 213, 214, 215, 216, 217, 218, 219, 220, 221, 222, 223, 224, 225, 226, 227, 228, 229, 230, 231, 232, 233, 234, 235, 236, 237, 238, 239, 240, 241, 242, 243, 244, 245, 246, 247, 248, 249, 250, 251, 252, 253, 254, 255, 256, 257, 258, 259, 260, 261, 262, 263, 264, 265, 266, 267, 268, 269, 270, 271, 272, 273, 274, 275, 276, 277, 278, 279, 280, 281, 282, 283, 284, 285, 286, 287, 288, 289, 290, 291, 292, 293, 294, 295, 296, 297, 298, 299, 300, 301, 302, 303, 304, 305, 306, 307, 308, 309, 310, 311, 312, 314, 315, 316, 317, 318, 319, 320, 321, 322, 323, 324, 325, 326, 327, 328, 329, 330, 331, 332, 333, 334, 335, 336, 338, 339, 340, 341, 342, 343, 344, 345, 346, 347, 348, 349, 350, 351, 352, 353, 354, 355, 356, 357, 358, 359, 360, 361, 362, 363, 364, 365, 366, 367, 368, 369, 370, 371, 372, 373, 374, 375, 376, 377, 378, 379, 380, 381, 382, 383, 384, 385, 386, 387, 388, 391, 392, 393, 394, 395, 396, 397, 398, 400, 401, 402, 403, 404, 405, 406, 407, 408, 409, 410, 412, 413, 414, 415, 416, 417, 418, 419, 420, 421, 422, 423, 424, 425, 426, 427, 428, 429, 430, 431, 433, 434, 435, 436, 437, 438, 439, 440, 441, 442, 443, 444, 445, 446, 447, 448, 449, 450, 451, 452, 453, 454, 455, 456, 457, 458, 459, 461, 462, 463, 464, 465, 466, 467, 468, 469, 470, 471, 472, 473, 474, 475, 476, 477, 478, 479, 480, 481, 482, 483, 484, 485, 486, 487, 488, 489, 490, 491, 492, 493, 494, 495, 496, 497, 499, 500, 501, 502, 503, 504, 505, 506, 507, 508, 509, 510, 511, 512, 513, 514, 515, 516, 517, 518, 519, 520, 521, 522, 523, 524, 525, 526, 527, 529, 530, 531, 532, 533, 534, 535, 536, 537, 538, 539, 540, 541, 542, 543, 544, 545, 546, 547, 548, 549, 550, 551, 552, 553, 554, 555, 556, 557, 558, 559, 560, 561, 562, 563, 564, 565, 566, 567, 568, 569, 570, 571, 572, 573, 574, 575, 576, 577, 578, 579, 581, 582, 583, 584, 585, 586, 587, 588, 589, 590, 591, 592, 593, 594, 595, 596, 597, 598, 599, 600, 601, 602, 603, 605, 606, 607, 608, 609, 610, 611, 613, 614, 615, 616, 617, 618, 619, 620, 621, 622, 623, 624, 625, 626, 627, 628, 629, 630, 631, 632, 633, 634, 635, 636, 637, 638, 639, 640, 641, 642, 644, 645, 646, 647, 648, 649, 650, 651, 652, 653, 654, 655, 656, 657, 658, 659, 660, 661, 662, 663, 664, 665, 667, 668, 669, 670, 671, 672, 673, 674, 675, 676, 677, 678, 679, 680, 681, 682, 683, 684, 685, 686, 687, 688, 689, 690, 691, 692, 693, 694, 695, 696, 697, 698, 699, 700, 701, 702, 703, 704, 705, 706, 707, 708, 709, 710, 711, 712, 713, 714, 715, 716, 717, 718, 719, 720, 721, 722, 723, 724, 725, 726, 727, 728, 729, 730, 731, 732, 733, 734, 735, 736, 737, 738, 739, 740, 741, 742, 743, 744, 745, 746, 747, 748, 749, 750, 751, 752, 753, 754, 755, 756, 757, 758, 759, 760, 761, 762, 763, 764, 765, 766, 767, 768, 769, 770, 771, 772, 773, 774, 775, 776, 777, 778, 779, 780, 781, 782, 784, 785, 786, 787, 788, 789, 790, 791, 792, 793, 794, 795, 796, 797, 798, 799, 800, 801, 802, 803, 804, 805, 806, 807, 808, 809, 810, 811, 812, 813, 814, 815, 816, 817, 818, 819, 820, 821, 822, 823, 824, 825, 826, 827, 828, 829, 830, 831, 832, 833, 834, 835, 836, 837, 838, 839, 840, 841, 842, 843, 844, 845, 846, 847, 848, 849, 850, 851, 852, 853, 854, 855, 856, 857, 858, 859, 860, 861, 862, 863, 864, 865, 866, 867, 868, 869, 870, 871, 872, 873, 874, 875, 876, 877, 878, 879, 880, 881, 882, 883, 884, 885, 886, 887, 888, 889, 890, 891, 892, 893, 894, 895, 896, 897, 898, 899, 900, 901, 902, 903, 904, 905, 906, 907, 908, 909, 910, 911, 912, 913, 914, 915, 916, 917, 918, 919, 920, 921, 922, 923, 924, 925, 926, 927, 928, 929, 930, 931, 932, 933, 934, 935, 936, 937, 938, 939, 940, 941, 942, 943, 944, 945, 946, 947, 948, 949, 950, 951, 952, 953, 954, 955, 956, 957, 958, 959, 960, 961, 962, 963, 964, 965, 966, 967, 968, 969, 970, 971, 972, 973, 974, 975, 976, 977, 978, 979, 980, 981, 982, 983, 984, 985, 986, 987, 988, 989, 990, 991, 992, 993, 994, 995, 997, 998, 999, 1000, 1001, 1002, 1003, 1004, 1006, 1007, 1008, 1009, 1010, 1011, 1012, 1013, 1014, 1015, 1016, 1017, 1018, 1019, 1020, 1021, 1022, 1023, 1024, 1025, 1026, 1027, 1028, 1029, 1030, 1031, 1033, 1034, 1035, 1036, 1037, 1038, 1039, 1040, 1041, 1042, 1043, 1044, 1045, 1046, 1047, 1048, 1049, 1050, 1051, 1052, 1053, 1054, 1055, 1056, 1057, 1058, 1059, 1060, 1061, 1062, 1063, 1064, 1065, 1066, 1067, 1068, 1069, 1070, 1071, 1072, 1073, 1074, 1075, 1076, 1077, 1078, 1079, 1080, 1081, 1082, 1083, 1084, 1085, 1086, 1087, 1088, 1089, 1090, 1091, 1092, 1093, 1094, 1095, 1096, 1097, 1098, 1099, 1100, 1101, 1103, 1104, 1105, 1106, 1107, 1108, 1109, 1110, 1111, 1112, 1113, 1114, 1115, 1116, 1117, 1118, 1119, 1120, 1121, 1122, 1123, 1124, 1125, 1126, 1127, 1128, 1129, 1130, 1131, 1133, 1134, 1135, 1136, 1137, 1138, 1139, 1140, 1141, 1142, 1143, 1144, 1145, 1146, 1147, 1148, 1149, 1150, 1151, 1152, 1153, 1154, 1155, 1156, 1158, 1159, 1160, 1161, 1162, 1163, 1164, 1165, 1166, 1167, 1168, 1169, 1170, 1171, 1172, 1173, 1174, 1175, 1176, 1177, 1178, 1179, 1180, 1181, 1182, 1183, 1184, 1185, 1186, 1187, 1188, 1189, 1191, 1192, 1193, 1194, 1195, 1196, 1197, 1198, 1199, 1200, 1201, 1202, 1203, 1204, 1205, 1206, 1207, 1209, 1210, 1211, 1212, 1213, 1214, 1215, 1216, 1217, 1218, 1219, 1220, 1221, 1222, 1223, 1224, 1225, 1226, 1227, 1228, 1229, 1230, 1231, 1232, 1233, 1234, 1235, 1236, 1237, 1238, 1239, 1240, 1241, 1242, 1243, 1244, 1245, 1246, 1247, 1248, 1249, 1250, 1252, 1253, 1254, 1255, 1256, 1257, 1258, 1259, 1261, 1262, 1263, 1264, 1265, 1266, 1267, 1268, 1269, 1270, 1271, 1272, 1273, 1274, 1275, 1276, 1277, 1278, 1279, 1280, 1281, 1282, 1283, 1285, 1286, 1287, 1288, 1289, 1290, 1291, 1292, 1293, 1294, 1295, 1296, 1297, 1298, 1299, 1300, 1301, 1303, 1304, 1305, 1306, 1307, 1308, 1309, 1310, 1311, 1312, 1313, 1314, 1315, 1316, 1317, 1318, 1319, 1320, 1321, 1322, 1323, 1324, 1325, 1326, 1327, 1328, 1329, 1330, 1331, 1332, 1333, 1334, 1335, 1336, 1337, 1338, 1339, 1340, 1341, 1343, 1344, 1345, 1346, 1347, 1348, 1349, 1350, 1351, 1352, 1353, 1354, 1355, 1356, 1357, 1358, 1359, 1360, 1361, 1362, 1363, 1364, 1365, 1366, 1367, 1368, 1369, 1370, 1371, 1372, 1373, 1374, 1375, 1376, 1377, 1378, 1379, 1380, 1381, 1382, 1383, 1384, 1385, 1386, 1387, 1388, 1389, 1390, 1391, 1392, 1393, 1394, 1395, 1396, 1397, 1398, 1399, 1400, 1401, 1402, 1403, 1404, 1405, 1406, 1407, 1408, 1409, 1410, 1411, 1412, 1413, 1414, 1415, 1416, 1417, 1418, 1419, 1420, 1421, 1422, 1423, 1424, 1425, 1426, 1427, 1428, 1429, 1430, 1431, 1432, 1433, 1434, 1435, 1436, 1437, 1438, 1439, 1440, 1441, 1442, 1443, 1444, 1445, 1446, 1447, 1448, 1449, 1450, 1451, 1452, 1453, 1454, 1455, 1456, 1457, 1458, 1459, 1460, 1461, 1462, 1463, 1464, 1465, 1466, 1467, 1468, 1469, 1470, 1471, 1472, 1473, 1474, 1475, 1476, 1477, 1478, 1479, 1480, 1481, 1482, 1483, 1484, 1485, 1486, 1487, 1488, 1489, 1490, 1491, 1492, 1493, 1494, 1495, 1496, 1497, 1498, 1499, 1500, 1501, 1502, 1503, 1504, 1505, 1506, 1507, 1508, 1509, 1510, 1511, 1512, 1513, 1514, 1515, 1516, 1517, 1518, 1519, 1520, 1521, 1522, 1524, 1525, 1526, 1527, 1528, 1529, 1530, 1531, 1532, 1533, 1534, 1535, 1536, 1537, 1538, 1539, 1540, 1541, 1542, 1543, 1544, 1545, 1546, 1547, 1548, 1549, 1550, 1551, 1552, 1553, 1554, 1555, 1556, 1557, 1559, 1560, 1561, 1562, 1563, 1564, 1565, 1566, 1567, 1568, 1569, 1570, 1571, 1572, 1573, 1574, 1575, 1576, 1577, 1578, 1579, 1580, 1581, 1582, 1583, 1584, 1585, 1586, 1587, 1588, 1589, 1590, 1591, 1592, 1593, 1594, 1595, 1596, 1597, 1598, 1599, 1600, 1601, 1602, 1603, 1604, 1605, 1606, 1607, 1608, 1609, 1610, 1611, 1612, 1613, 1614, 1616, 1617, 1618, 1619, 1620, 1621, 1622, 1623, 1624, 1625, 1626, 1627, 1628, 1629, 1630, 1631, 1632, 1633, 1634, 1635, 1636, 1637, 1638, 1639, 1640, 1641, 1642, 1643, 1644, 1645, 1646, 1647, 1648, 1649, 1650, 1651, 1652, 1653, 1654, 1655, 1656, 1657, 1658, 1659, 1660, 1661, 1662, 1663]\n"
          ]
        }
      ]
    },
    {
      "cell_type": "markdown",
      "metadata": {
        "id": "KcspS9SMdJef"
      },
      "source": [
        "Movies which are not seen by the user."
      ]
    },
    {
      "cell_type": "code",
      "metadata": {
        "id": "mtCDRu3WYCZa",
        "outputId": "ac348680-972e-45b2-d748-0ebbb2d2eeff",
        "colab": {
          "base_uri": "https://localhost:8080/"
        }
      },
      "source": [
        "len(unseen_movies) + len(seen_movies)"
      ],
      "execution_count": 64,
      "outputs": [
        {
          "output_type": "execute_result",
          "data": {
            "text/plain": [
              "1664"
            ]
          },
          "metadata": {},
          "execution_count": 64
        }
      ]
    },
    {
      "cell_type": "code",
      "metadata": {
        "id": "qmS6oeujY6fo",
        "outputId": "f45b1a92-29c4-4b0d-9f1a-720d8aa14289",
        "colab": {
          "base_uri": "https://localhost:8080/"
        }
      },
      "source": [
        "model_input = [np.asarray(list(encoded_user_id)*len(unseen_movies)), np.asarray(unseen_movies)]\n",
        "len(model_input), len(model_input[0])"
      ],
      "execution_count": 65,
      "outputs": [
        {
          "output_type": "execute_result",
          "data": {
            "text/plain": [
              "(2, 1628)"
            ]
          },
          "metadata": {},
          "execution_count": 65
        }
      ]
    },
    {
      "cell_type": "markdown",
      "metadata": {
        "id": "PyRgI_vJdsAp"
      },
      "source": [
        "**DNN model is used to predict the ratings of the unseen movies.**"
      ]
    },
    {
      "cell_type": "code",
      "metadata": {
        "id": "mmtIZjAgZSax",
        "colab": {
          "base_uri": "https://localhost:8080/"
        },
        "outputId": "b6b36fea-2082-4cd0-d019-a629210b24a2"
      },
      "source": [
        "predicted_ratings = model.predict(model_input)"
      ],
      "execution_count": 66,
      "outputs": [
        {
          "output_type": "stream",
          "name": "stdout",
          "text": [
            "51/51 [==============================] - 0s 2ms/step\n"
          ]
        }
      ]
    },
    {
      "cell_type": "code",
      "metadata": {
        "id": "OfKQOn9CZhi9",
        "outputId": "e64ca496-90b9-4011-e573-571c0c1ebee4",
        "colab": {
          "base_uri": "https://localhost:8080/"
        }
      },
      "source": [
        "print(predicted_ratings.shape)"
      ],
      "execution_count": 67,
      "outputs": [
        {
          "output_type": "stream",
          "name": "stdout",
          "text": [
            "(1628, 9)\n"
          ]
        }
      ]
    },
    {
      "cell_type": "code",
      "metadata": {
        "id": "y1IGrVJBaKwb",
        "outputId": "1d8cf237-d51f-4cc3-bb25-f34645e4df6f",
        "colab": {
          "base_uri": "https://localhost:8080/"
        }
      },
      "source": [
        "print(predicted_ratings)"
      ],
      "execution_count": 68,
      "outputs": [
        {
          "output_type": "stream",
          "name": "stdout",
          "text": [
            "[[7.88420498e-01 2.11524636e-01 1.28559386e-05 ... 4.52934228e-06\n",
            "  6.46411263e-06 1.18448788e-05]\n",
            " [7.88042426e-01 2.11910293e-01 1.08655859e-05 ... 3.86586225e-06\n",
            "  5.78694335e-06 1.03905932e-05]\n",
            " [7.87605524e-01 2.12340489e-01 1.29894988e-05 ... 4.46902186e-06\n",
            "  6.08305345e-06 1.14970890e-05]\n",
            " ...\n",
            " [7.90669918e-01 2.09286600e-01 1.03593702e-05 ... 3.75429545e-06\n",
            "  4.81990310e-06 9.06336663e-06]\n",
            " [7.86009789e-01 2.13943124e-01 1.12362914e-05 ... 3.75510285e-06\n",
            "  5.49774222e-06 1.03165976e-05]\n",
            " [7.86779284e-01 2.13172674e-01 1.13191609e-05 ... 4.10720577e-06\n",
            "  5.71590772e-06 1.02630665e-05]]\n"
          ]
        }
      ]
    },
    {
      "cell_type": "markdown",
      "metadata": {
        "id": "4Uqrx92hd1Yl"
      },
      "source": [
        "Output is of shape (1628, 9). We got probability of each possible rating from 1 to 5. We can extract specific rating which user would have given to a movie but it is not useful for these recommendations now."
      ]
    },
    {
      "cell_type": "code",
      "metadata": {
        "id": "KNOAYhR0e6-h",
        "outputId": "fb70a782-04e0-4933-94c1-458601ddca4d",
        "colab": {
          "base_uri": "https://localhost:8080/"
        }
      },
      "source": [
        "predicted_ratings = np.max(predicted_ratings, axis=1)\n",
        "predicted_ratings"
      ],
      "execution_count": 69,
      "outputs": [
        {
          "output_type": "execute_result",
          "data": {
            "text/plain": [
              "array([0.7884205, 0.7880424, 0.7876055, ..., 0.7906699, 0.7860098,\n",
              "       0.7867793], dtype=float32)"
            ]
          },
          "metadata": {},
          "execution_count": 69
        }
      ]
    },
    {
      "cell_type": "code",
      "metadata": {
        "id": "X_AitEdxe7UB",
        "outputId": "886a9292-6abc-4ef1-d719-ff3b7a0c9154",
        "colab": {
          "base_uri": "https://localhost:8080/"
        }
      },
      "source": [
        "predicted_ratings.shape"
      ],
      "execution_count": 70,
      "outputs": [
        {
          "output_type": "execute_result",
          "data": {
            "text/plain": [
              "(1628,)"
            ]
          },
          "metadata": {},
          "execution_count": 70
        }
      ]
    },
    {
      "cell_type": "markdown",
      "metadata": {
        "id": "nMyRRTncgMbf"
      },
      "source": [
        "Index of ratings sorted by descending order."
      ]
    },
    {
      "cell_type": "code",
      "metadata": {
        "id": "ouBCeCapf-UK",
        "outputId": "0691d2f2-3ab8-44c8-c1b3-66b9fe8a9754",
        "colab": {
          "base_uri": "https://localhost:8080/"
        }
      },
      "source": [
        "sorted_index = np.argsort(predicted_ratings)[::-1]\n",
        "print(sorted_index)"
      ],
      "execution_count": 71,
      "outputs": [
        {
          "output_type": "stream",
          "name": "stdout",
          "text": [
            "[1378  503 1538 ...  567  877  500]\n"
          ]
        }
      ]
    },
    {
      "cell_type": "markdown",
      "metadata": {
        "id": "1wKHCeFTkROY"
      },
      "source": [
        "**Movie names have been extracted from the available indices we got.**"
      ]
    },
    {
      "cell_type": "code",
      "metadata": {
        "id": "p6KxPoScf-d6",
        "outputId": "2570535c-df65-4899-f2e2-e50561fc4b71",
        "colab": {
          "base_uri": "https://localhost:8080/"
        }
      },
      "source": [
        "recommended_movies = item_enc.inverse_transform(sorted_index)\n",
        "recommended_movies"
      ],
      "execution_count": 72,
      "outputs": [
        {
          "output_type": "execute_result",
          "data": {
            "text/plain": [
              "array(['Spirits of the Dead (Tre passi nel delirio) (1968)',\n",
              "       'Fatal Instinct (1993)', 'Truth or Consequences, N.M. (1997)', ...,\n",
              "       'Frighteners, The (1996)', 'Live Nude Girls (1995)',\n",
              "       'Farmer & Chase (1995)'], dtype=object)"
            ]
          },
          "metadata": {},
          "execution_count": 72
        }
      ]
    },
    {
      "cell_type": "markdown",
      "metadata": {
        "id": "HaKPES74keEW"
      },
      "source": [
        "## Movies recommended with the help of Softmax Deep Neural Networks"
      ]
    },
    {
      "cell_type": "code",
      "metadata": {
        "id": "CIIumPFPf-mS",
        "outputId": "1c52fa52-a542-44ec-dd0e-b98176424016",
        "colab": {
          "base_uri": "https://localhost:8080/"
        }
      },
      "source": [
        "from pprint import pprint\n",
        "pprint(list(recommended_movies[:20]))"
      ],
      "execution_count": 73,
      "outputs": [
        {
          "output_type": "stream",
          "name": "stdout",
          "text": [
            "['Spirits of the Dead (Tre passi nel delirio) (1968)',\n",
            " 'Fatal Instinct (1993)',\n",
            " 'Truth or Consequences, N.M. (1997)',\n",
            " 'Big Squeeze, The (1996)',\n",
            " 'Grease (1978)',\n",
            " 'Rosewood (1997)',\n",
            " 'Only You (1994)',\n",
            " 'Last of the Mohicans, The (1992)',\n",
            " 'Being Human (1993)',\n",
            " 'Relative Fear (1994)',\n",
            " 'Raw Deal (1948)',\n",
            " 'Eat Drink Man Woman (1994)',\n",
            " 'Big Night (1996)',\n",
            " 'Brother Minister: The Assassination of Malcolm X (1994)',\n",
            " 'Tin Cup (1996)',\n",
            " 'Before the Rain (Pred dozhdot) (1994)',\n",
            " 'Colonel Chabert, Le (1994)',\n",
            " 'That Old Feeling (1997)',\n",
            " 'Swingers (1996)',\n",
            " 'Lone Star (1996)']\n"
          ]
        }
      ]
    },
    {
      "cell_type": "markdown",
      "metadata": {
        "id": "SoXBhPMiku38"
      },
      "source": [
        "## Summing up the entire code into a recommender system function:"
      ]
    },
    {
      "cell_type": "code",
      "metadata": {
        "id": "MwBUv7TlkuDn"
      },
      "source": [
        "def recommender_system(user_id, model, n_movies):\n",
        "\n",
        "  print(\"\")\n",
        "  print(\"Movie seen by the User:\")\n",
        "  pprint(list(refined_dataset[refined_dataset['user id'] == user_id]['movie title']))\n",
        "  print(\"\")\n",
        "\n",
        "  encoded_user_id = user_enc.transform([user_id])\n",
        "\n",
        "  seen_movies = list(refined_dataset[refined_dataset['user id'] == user_id]['movie'])\n",
        "  unseen_movies = [i for i in range(min(refined_dataset['movie']), max(refined_dataset['movie'])+1) if i not in seen_movies]\n",
        "  model_input = [np.asarray(list(encoded_user_id)*len(unseen_movies)), np.asarray(unseen_movies)]\n",
        "  predicted_ratings = model.predict(model_input)\n",
        "  predicted_ratings = np.max(predicted_ratings, axis=1)\n",
        "  sorted_index = np.argsort(predicted_ratings)[::-1]\n",
        "  recommended_movies = item_enc.inverse_transform(sorted_index)\n",
        "  print(\"---------------------------------------------------------------------------------\")\n",
        "  print(\"Top \"+str(n_movies)+\" Movie recommendations for the User \"+str(user_id)+ \" are:\")\n",
        "  pprint(list(recommended_movies[:n_movies]))"
      ],
      "execution_count": 74,
      "outputs": []
    },
    {
      "cell_type": "code",
      "metadata": {
        "id": "-qAd6yrukuK_",
        "outputId": "2a2f3bb0-07be-454d-885d-50b0df3e1749",
        "colab": {
          "base_uri": "https://localhost:8080/"
        }
      },
      "source": [
        "print(\"Enter user id\")\n",
        "user_id= int(input())\n",
        "\n",
        "print(\"Enter number of movies to be recommended:\")\n",
        "n_movies = int(input())\n",
        "recommender_system(user_id,model,n_movies)\n"
      ],
      "execution_count": 76,
      "outputs": [
        {
          "output_type": "stream",
          "name": "stdout",
          "text": [
            "Enter user id\n",
            "507\n",
            "Enter number of movies to be recommended:\n",
            "6\n",
            "\n",
            "Movie seen by the User:\n",
            "['Air Force One (1997)',\n",
            " 'Alien: Resurrection (1997)',\n",
            " 'Amistad (1997)',\n",
            " 'Anastasia (1997)',\n",
            " 'Apt Pupil (1998)',\n",
            " 'As Good As It Gets (1997)',\n",
            " 'Bean (1997)',\n",
            " 'Con Air (1997)',\n",
            " 'Conspiracy Theory (1997)',\n",
            " 'Contact (1997)',\n",
            " \"Dante's Peak (1997)\",\n",
            " 'Dark City (1998)',\n",
            " 'Daylight (1996)',\n",
            " 'Deconstructing Harry (1997)',\n",
            " \"Devil's Advocate, The (1997)\",\n",
            " \"Devil's Own, The (1997)\",\n",
            " 'Eraser (1996)',\n",
            " 'Everyone Says I Love You (1996)',\n",
            " 'Face/Off (1997)',\n",
            " 'Fifth Element, The (1997)',\n",
            " 'Flubber (1997)',\n",
            " 'Full Monty, The (1997)',\n",
            " 'Game, The (1997)',\n",
            " 'Glimmer Man, The (1996)',\n",
            " 'Home Alone 3 (1997)',\n",
            " 'I Know What You Did Last Summer (1997)',\n",
            " 'Independence Day (ID4) (1996)',\n",
            " 'Jackal, The (1997)',\n",
            " 'L.A. Confidential (1997)',\n",
            " 'Liar Liar (1997)',\n",
            " 'Long Kiss Goodnight, The (1996)',\n",
            " 'Lost World: Jurassic Park, The (1997)',\n",
            " 'Men in Black (1997)',\n",
            " 'Mission: Impossible (1996)',\n",
            " 'Mrs. Brown (Her Majesty, Mrs. Brown) (1997)',\n",
            " 'Peacemaker, The (1997)',\n",
            " 'Phantom, The (1996)',\n",
            " 'Postman, The (1997)',\n",
            " 'Quest, The (1996)',\n",
            " 'Rainmaker, The (1997)',\n",
            " 'Red Corner (1997)',\n",
            " 'Return of the Jedi (1983)',\n",
            " 'Rock, The (1996)',\n",
            " 'Saint, The (1997)',\n",
            " 'Scream (1996)',\n",
            " 'Scream 2 (1997)',\n",
            " 'Seven Years in Tibet (1997)',\n",
            " 'Speed 2: Cruise Control (1997)',\n",
            " 'Spice World (1997)',\n",
            " 'Star Trek: First Contact (1996)',\n",
            " 'Star Wars (1977)',\n",
            " 'Starship Troopers (1997)',\n",
            " 'Titanic (1997)',\n",
            " 'Tomorrow Never Dies (1997)',\n",
            " 'Twisted (1996)',\n",
            " 'Twister (1996)',\n",
            " 'U Turn (1997)',\n",
            " 'Volcano (1997)']\n",
            "\n",
            "51/51 [==============================] - 0s 2ms/step\n",
            "---------------------------------------------------------------------------------\n",
            "Top 6 Movie recommendations for the User 507 are:\n",
            "[\"Someone Else's America (1995)\",\n",
            " 'Broken Arrow (1996)',\n",
            " \"Things to Do in Denver when You're Dead (1995)\",\n",
            " 'Top Gun (1986)',\n",
            " 'Farewell to Arms, A (1932)',\n",
            " \"Stephen King's The Langoliers (1995)\"]\n"
          ]
        }
      ]
    },
    {
      "cell_type": "code",
      "source": [],
      "metadata": {
        "id": "jz1dPMxwYY9U"
      },
      "execution_count": null,
      "outputs": []
    }
  ]
}
